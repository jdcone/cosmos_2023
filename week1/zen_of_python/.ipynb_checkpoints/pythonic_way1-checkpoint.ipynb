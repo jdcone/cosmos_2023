{
 "cells": [
  {
   "cell_type": "markdown",
   "metadata": {},
   "source": [
    "# Best Practices of Pythonic Programming\n",
    "\n",
    "## What does Pythonic mean?\n",
    "\n",
    "When people talk about *pythonic* code, **they mean that the code uses Python idioms well, that it is natural or displays fluency in the language**. In other words, it means using the most widely adopted idioms that are adopted by the Python community. If someone said you are writing un-pythonic code, they might actually mean that you are attempting to write Java/C++ code in Python, disregarding the Python idioms and performing a rough translation rather than an idiomatic translation from the other language. \n",
    "\n",
    "Below, we will explore several of the most important python coding techniques that will indicate if you are fluent in the python language. \n",
    "\n",
    "##  Why should you write Pythonic code?\n",
    "\n",
    "Firstly, you obviously want to become a smarter and more productive programmer. Python is a comparatively slow language, and when you’re trying to do something in Python, which you just port over from another language like Java or C++, you’re going to make things a lot worse. With idiomatic, Pythonic code, you’ll improve the speed of your programs. In addition, idiomatic code is far easier to comprehend and use for other developers who are working on the same code.\n",
    "\n",
    "<font color = 'blue'> \n",
    "Bottom line : you want to be a real **\"pythonista\"** \n",
    "</font>\n",
    "\n"
   ]
  },
  {
   "cell_type": "markdown",
   "metadata": {},
   "source": [
    "##  What are some examples of pythonic code?\n",
    "\n",
    "Here is a list of pythonic code examples we will explore in this notebook:\n",
    "\n",
    "+ Understanding how and where to use white space in programs (Style guide)\n",
    "\n",
    "\n",
    "+ Using buit-in functions to manipulate lists, arrays, and strings : len, max,min, sorted, reverse\n",
    "\n",
    "\n",
    "+ Using the right syntax for looping over (iterating over) lists, tuples, arrays, and dictionaries\n",
    "\n",
    "\n",
    "+ Using enumerate to get index for a list/dictionary\n",
    "\n",
    "\n",
    "+ Testing for containment in list or dictionary properly\n",
    "\n",
    "\n",
    "+ Learning the right way to use and access dictionaries with *keywords*: keys, values, items\n",
    "\n",
    "\n",
    "\n",
    "\n",
    "##  A follow-on notebook: **pythonic_way#2**  will look at more pythonic best practices.\n",
    " \n",
    "<font color = 'blue'> \n",
    "## Okay, let's get started with learning the pythonic way !</font>\n"
   ]
  },
  {
   "cell_type": "markdown",
   "metadata": {},
   "source": [
    "### Understanding how and where to use white space in programs ( PEP-8 Style guide)\n",
    "\n",
    "We will not say a lot about this here. There is whole **Style Guide for Python Code** which you can access at \n",
    "https://www.python.org/dev/peps/pep-0008/ . I am not as big a stickler about style as some people are, but it is important to know the basics.\n",
    "\n",
    "\n",
    "Below is one example from the style guide."
   ]
  },
  {
   "cell_type": "code",
   "execution_count": null,
   "metadata": {},
   "outputs": [],
   "source": [
    "# Avoid extraneous whitespace in the following situations:\n",
    "list1 = [2,4,5]\n",
    "# Correct:\n",
    "list1[2]\n",
    "# Wrong:\n",
    "list1 [2]\n",
    "list1[ 2 ]"
   ]
  },
  {
   "cell_type": "code",
   "execution_count": null,
   "metadata": {},
   "outputs": [],
   "source": [
    "# Correct:\n",
    "x, y = 4, 6\n",
    "if x == 4: \n",
    "    x, y = y, x\n",
    "    print(x, y) \n",
    "# Wrong:\n",
    "if x == 4 : \n",
    "    x , y = y , x\n",
    "    print( x , y )"
   ]
  },
  {
   "cell_type": "markdown",
   "metadata": {},
   "source": [
    "### Using buit-in functions to manipulate lists, arrays, and strings : len, max,min, sorted, reversed\n",
    "\n",
    "Make sure you understand and make use of all the built-in functions for a python data type. For example, the list type has a number of built-in functions (we call them methods) that can be used:\n",
    "\n",
    "    + len\n",
    "    \n",
    "    + max\n",
    "    \n",
    "    + min\n",
    "    \n",
    "    + sorted\n",
    "    \n",
    "    + reversed"
   ]
  },
  {
   "cell_type": "code",
   "execution_count": null,
   "metadata": {},
   "outputs": [],
   "source": [
    "# Examples: built-in list functions:\n",
    "numbers = [ 3, 67 ,25, 17, 56, 189 ]\n",
    "\n",
    "# To find out what methods a variable has use 'dir'\n",
    "#dir(numbers)\n"
   ]
  },
  {
   "cell_type": "code",
   "execution_count": null,
   "metadata": {},
   "outputs": [],
   "source": [
    "# Let's try some of these:\n",
    "\n",
    "print(numbers)\n",
    "print(len(numbers))\n",
    "print(max(numbers))\n",
    "print(min(numbers))"
   ]
  },
  {
   "cell_type": "code",
   "execution_count": null,
   "metadata": {},
   "outputs": [],
   "source": [
    "#  And these:\n",
    "\n",
    "print(sorted(numbers))\n",
    "#print(reversed(numbers))   # Note: this creates an iterator !!\n",
    "\n",
    "#list(reversed(numbers))\n"
   ]
  },
  {
   "cell_type": "markdown",
   "metadata": {},
   "source": [
    "### Using the right syntax for looping over (iterating over) lists, tuples, arrays, and dictionaries"
   ]
  },
  {
   "cell_type": "code",
   "execution_count": null,
   "metadata": {},
   "outputs": [],
   "source": [
    "#Bad practice - carried over from Java/C++\n",
    "\n",
    "# Task : compute squares of all items in a list and store in another list\n",
    "list1 = [1, 2, 3, 4, 5, 6]\n",
    "result = []\n",
    "\n",
    "for idx in range(len(list1)):\n",
    "    result.append(list1[idx] * list1[idx])\n",
    "\n",
    "#print(result)    \n"
   ]
  },
  {
   "cell_type": "code",
   "execution_count": null,
   "metadata": {},
   "outputs": [],
   "source": [
    "#Good practice - Use list as iterator or (better) use list comprehension\n",
    "\n",
    "list1 = [1, 2, 3, 4, 5, 6]\n",
    "result = []\n",
    "for num in list1:\n",
    "    result.append(num * num)\n",
    "\n",
    "#print(result)\n"
   ]
  },
  {
   "cell_type": "code",
   "execution_count": null,
   "metadata": {},
   "outputs": [],
   "source": [
    "#Better practice : Use list comprehension\n",
    "\n",
    "list1 = [1, 2, 3, 4, 5, 6]\n",
    "result = [ num* num for num in list1] # This is a list comprehension\n",
    "#print(result)"
   ]
  },
  {
   "cell_type": "code",
   "execution_count": null,
   "metadata": {},
   "outputs": [],
   "source": [
    "# Even easier if the container(list ) is a numpy array\n",
    "\n",
    "import numpy as np\n",
    "list1 = [1, 2, 3, 4, 5, 6]\n",
    "array1 = np.array(list1)\n",
    "result = array1**2\n",
    "#print(result)"
   ]
  },
  {
   "cell_type": "markdown",
   "metadata": {},
   "source": [
    "### Using enumerate to get index for a list/dictionary"
   ]
  },
  {
   "cell_type": "markdown",
   "metadata": {},
   "source": [
    "#### What I want to get the index *and* the item from a list (or other container) ?? \n",
    "\n",
    "Answer: Use the *enumerate* keyword  !! "
   ]
  },
  {
   "cell_type": "code",
   "execution_count": null,
   "metadata": {},
   "outputs": [],
   "source": [
    "#  Example with enumerate: Here I want to print index and item\n",
    "\n",
    "fruits = ['banana','apple', 'mango', 'kiwi', 'orange', 'apricot']\n",
    "\n",
    "for idx,fruit in enumerate(fruits):  # Enumerate returns a'tuple' with index and item\n",
    "    print (idx+1, fruit)\n"
   ]
  },
  {
   "cell_type": "markdown",
   "metadata": {},
   "source": [
    "### Testing for containment in list or dictionary properly\n",
    "\n",
    "What is the best way to tell if item resides in a list, tuple, or dictionary ???\n",
    "\n",
    "Use the 'in' function  !!!  "
   ]
  },
  {
   "cell_type": "code",
   "execution_count": null,
   "metadata": {},
   "outputs": [],
   "source": [
    "fruits = ['banana','apple', 'mango', 'kiwi', 'orange', 'apricot']\n",
    "\n",
    "def test_fruit(fruit):\n",
    "    if fruit in fruits:\n",
    "        print(f'Yeah, I can eat a {fruit}')\n",
    "    else:\n",
    "        print(f'{fruit} is not allowed on my diet')\n",
    "\n",
    "#test_fruit('apple')        \n",
    "#test_fruit('cherry')    "
   ]
  },
  {
   "cell_type": "code",
   "execution_count": null,
   "metadata": {},
   "outputs": [],
   "source": [
    "#  'in' can be used with almost all python containers\n",
    "names = ('Bob', 'Ellen', 'Jimmy', 'Jose')\n",
    "\n",
    "#'Jack' in names\n",
    "#'Bob' in names"
   ]
  },
  {
   "cell_type": "code",
   "execution_count": null,
   "metadata": {},
   "outputs": [],
   "source": [
    "#  important to test if key is 'in' a dictionary before reference\n",
    "wardrobe = { 'shirts' : 10, 'pants': 5, 'sweaters': 4, 'hats': 2, 'suits': 0 }\n",
    "\n",
    "# What happens if you ask for a key not in dictionary  ???\n",
    "\n",
    "item = 'ties'\n",
    "#print(wardrobe[item])"
   ]
  },
  {
   "cell_type": "code",
   "execution_count": null,
   "metadata": {},
   "outputs": [],
   "source": [
    "#  To avoid this result , check first if key is in the dictionary  !!\n",
    "\n",
    "item = 'ties'\n",
    "if item in wardrobe:        # Check to see if key is in dictionary\n",
    "    message = f'Number of {item} is {wardrobe[item]}'\n",
    "else:\n",
    "    message = f'{item} not in wardrobe'\n",
    "         \n",
    "#print(message)"
   ]
  },
  {
   "cell_type": "markdown",
   "metadata": {},
   "source": [
    "###  Learning the right way to use and access dictionaries with *keywords*: keys, values, items\n",
    "\n",
    "We'll first create a dictionary called 'cal_dict' which contains the number of calories in each piece of fruit in our list.  We will use the zip function to tie together the fruit and calories lists into a dictionary. \n",
    "\n",
    "Get to know the 'zip' function- it comes in handy.\n"
   ]
  },
  {
   "cell_type": "code",
   "execution_count": null,
   "metadata": {},
   "outputs": [],
   "source": [
    "# Create cal_dict from fruits and calories lists\n",
    "\n",
    "fruits = ['banana','apple', 'mango', 'kiwi', 'orange', 'apricot']\n",
    "calories = [ 150, 100, 75, 35, 90, 20]\n",
    "cal_dict = dict(zip(fruits,calories))\n",
    "#print(cal_dict) \n"
   ]
  },
  {
   "cell_type": "markdown",
   "metadata": {},
   "source": [
    "Next we will access the dictionary using our keywords: **keys(), values(), items()**\n",
    "\n",
    "Note the parenthesis at the end of each keyword- these are methods !!"
   ]
  },
  {
   "cell_type": "code",
   "execution_count": null,
   "metadata": {},
   "outputs": [],
   "source": [
    "#print(cal_dict.keys())\n",
    "#list1 = list(cal_dict.keys())\n",
    "#print(list1)"
   ]
  },
  {
   "cell_type": "code",
   "execution_count": null,
   "metadata": {},
   "outputs": [],
   "source": [
    "#print(cal_dict.values())"
   ]
  },
  {
   "cell_type": "code",
   "execution_count": null,
   "metadata": {},
   "outputs": [],
   "source": [
    "#print(cal_dict.items())"
   ]
  },
  {
   "cell_type": "markdown",
   "metadata": {},
   "source": [
    "Now let's loop over the keys, values or items of our dictionary"
   ]
  },
  {
   "cell_type": "code",
   "execution_count": null,
   "metadata": {},
   "outputs": [],
   "source": [
    "# for loop over keys()\n",
    "key_list = []\n",
    "for key in cal_dict.keys(): # Note you do not have to use 'key' as variable here\n",
    "    key_list.append(key)\n",
    "#print(key_list)    \n",
    "\n",
    "    "
   ]
  },
  {
   "cell_type": "code",
   "execution_count": null,
   "metadata": {},
   "outputs": [],
   "source": [
    "# for loop over values()\n",
    "value_list = []\n",
    "for value in cal_dict.values(): # Note you do not have to use 'value' as variable here\n",
    "    value_list.append(value)\n",
    "#print(value_list)    "
   ]
  },
  {
   "cell_type": "code",
   "execution_count": null,
   "metadata": {},
   "outputs": [],
   "source": [
    "# for loop over items() : like enumerate, returns a tuple (pair) \n",
    "\n",
    "#for key,value in cal_dict.items():  #\n",
    "#    print(f'The number of calories in one {key} is  {value}')"
   ]
  }
 ],
 "metadata": {
  "kernelspec": {
   "display_name": "Python 3",
   "language": "python",
   "name": "python3"
  },
  "language_info": {
   "codemirror_mode": {
    "name": "ipython",
    "version": 3
   },
   "file_extension": ".py",
   "mimetype": "text/x-python",
   "name": "python",
   "nbconvert_exporter": "python",
   "pygments_lexer": "ipython3",
   "version": "3.8.5"
  },
  "toc": {
   "base_numbering": 1,
   "nav_menu": {},
   "number_sections": true,
   "sideBar": true,
   "skip_h1_title": false,
   "title_cell": "Table of Contents",
   "title_sidebar": "Contents",
   "toc_cell": false,
   "toc_position": {},
   "toc_section_display": true,
   "toc_window_display": false
  }
 },
 "nbformat": 4,
 "nbformat_minor": 2
}
