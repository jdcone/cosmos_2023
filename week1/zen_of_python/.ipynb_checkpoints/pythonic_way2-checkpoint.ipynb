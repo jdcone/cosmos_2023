{
 "cells": [
  {
   "cell_type": "markdown",
   "metadata": {},
   "source": [
    "#  Best Practices of Pythonic Programming (continued)\n",
    "\n",
    "\n",
    "\n",
    "##  What are some examples of pythonic code?\n",
    "\n",
    "Here is a list of pythonic code examples we will explore in this notebook:\n",
    "\n",
    "\n",
    "+ Understanding how to *pack* and *unpack* tuples, lists, and dictionaries\n",
    "\n",
    "\n",
    "+ Using best practices for import statements\n",
    "\n",
    "\n",
    "+ Using lambda expressions for simple in-line functions\n",
    "\n",
    "\n",
    "+ Using python f-strings or string formatting, rather than concatenation\n",
    "\n",
    "\n",
    "+ Being comfortable using list comprehensions\n",
    "\n",
    "\n",
    " \n",
    "<font color = 'blue'> \n",
    "    \n",
    "## Okay, let's get started with learning the pythonic way !\n",
    "</font>\n"
   ]
  },
  {
   "cell_type": "markdown",
   "metadata": {},
   "source": [
    "### Understanding how to *pack* and *unpack* tuples, lists, and dictionaries"
   ]
  },
  {
   "cell_type": "code",
   "execution_count": null,
   "metadata": {},
   "outputs": [],
   "source": [
    "# Here is example of a tuple: coord = (x,y,z) where x, y, z are co-ordinates in space\n",
    "\n",
    "x,y,z = 2,3,4    # Multiple assignment\n",
    "coord = (x,y,z)  # We 'pack' x,y,z into a tuple\n",
    "#type(coord)\n",
    "\n",
    "# Now we can unpack the tuple into its values\n",
    "x,y,z = coord\n",
    "\n",
    "#print(x,y,z)"
   ]
  },
  {
   "cell_type": "markdown",
   "metadata": {},
   "source": [
    "What would happen if there is a mismatch between 'coord' and values to unpack to?\n",
    "\n",
    "This error occurs quite often in python de-bugging"
   ]
  },
  {
   "cell_type": "code",
   "execution_count": null,
   "metadata": {},
   "outputs": [],
   "source": [
    "#  What would happen if there is a mismatch between 'coord' and values to unpack to?\n",
    "x,y,z = 2,3,4     # Multiple assignment\n",
    "coord = (x,y,z,5)  # We 'pack' x,y,z,5 into a tuple\n",
    "\n",
    "# Now we can try to unpack the tuple into its values\n",
    "#x,y,z = coord\n",
    "\n",
    "#Options: use a null value : 'underscore'\n",
    "#x,y,z,_ = coord"
   ]
  },
  {
   "cell_type": "markdown",
   "metadata": {},
   "source": [
    "Let's try to unpack a list, rather than a tuple. "
   ]
  },
  {
   "cell_type": "code",
   "execution_count": null,
   "metadata": {},
   "outputs": [],
   "source": [
    "# Example of unpacking a list \n",
    "student = ['Tom', 95, 96, 92, 85, 'senior'] # First item is name ,last item is year\n",
    "name, *grades, year = student\n",
    "#print(name)\n",
    "#print(grades)\n",
    "#print(year)\n"
   ]
  },
  {
   "cell_type": "markdown",
   "metadata": {},
   "source": [
    "### Using best practices for import statements\n",
    "\n",
    "Import statements allow your program to bring in and use external packages(libraries). There are hundreds of packages available for import to the python user. Packages that we already have seen include numpy (for numerical programming), random(for random number routines), and matplotlib (for plotting data). Here we look at best practices to avoid conflict among imported packages. \n",
    "\n",
    "Three different ways to use the import statement:\n",
    "\n",
    "    import numpy  (Ok, requires you to use full name 'numpy.' in front of any reference to package)\n",
    "    \n",
    "    import numpy as np (Best way to import all of a package into its own 'namespace')\n",
    "    \n",
    "    from math import sqrt, sin  (if you only need a few functions from the package)\n",
    "    \n",
    "    from numpy import *  ( Bad practice- imports all functions without numpy. causes conflict)\n"
   ]
  },
  {
   "cell_type": "code",
   "execution_count": null,
   "metadata": {},
   "outputs": [],
   "source": [
    "# Bad practice - importing from multiple packages on the same line\n",
    "import numpy, math, scipy \n",
    "# numpy and math both have pi values: are they the same??\n",
    "#math.pi is numpy.pi"
   ]
  },
  {
   "cell_type": "code",
   "execution_count": null,
   "metadata": {},
   "outputs": [],
   "source": [
    "# Bad practice - importing all programs directly into your program's  'namespace' \n",
    "\n",
    "from numpy import * \n",
    "\n",
    "#print(array([1,2,3,4,5])) # Is this reference numpy array or my own array function ????"
   ]
  },
  {
   "cell_type": "code",
   "execution_count": null,
   "metadata": {},
   "outputs": [],
   "source": [
    "# Good practice - importing packages in standard way :\n",
    "#  One line per package into its own namespace\n",
    "\n",
    "import math as math\n",
    "import numpy as np\n",
    "import matplotlib.pyplot as plt\n",
    "import random as random  # (or as rand)\n",
    "import os as os  \n",
    "\n",
    "#print(math.pi)\n",
    "#print(np.sqrt(3))\n",
    "#print(random.choice([1,2,3,4,5,6]))\n"
   ]
  },
  {
   "cell_type": "markdown",
   "metadata": {},
   "source": [
    "### Using python f-strings or string formatting, rather than concatenation\n",
    "\n",
    "Many times we want to print information or chart titles that include variables. In python 2, there was only one way to do that:  use string concatentation. Python 3 allows us to us f-strings and string formatting instead:  \n",
    "\n",
    "Example :\n",
    "\n",
    "   We want to print the string:  \n",
    "   \n",
    "       'The number of people in city_name is city_pop' \n",
    "       \n",
    "       \n",
    "where **city_name** and **city_pop** are variables we want to insert.       \n",
    "       \n",
    "\n",
    "For example, for city_name = 'Davis' and city_pop = 65000, we want to print:  \n",
    " \n",
    "\n",
    "        The number of people in Davis is 65000.\n"
   ]
  },
  {
   "cell_type": "code",
   "execution_count": null,
   "metadata": {},
   "outputs": [],
   "source": [
    "# Python 2 way of printing strings with concatenation: No longer recommended\n",
    "city_name = 'Davis'\n",
    "city_pop  = 65000\n",
    "string1 = 'The number of people in ' + city_name+ ' is ' + str(city_pop) + '.' \n",
    "#print(string1)"
   ]
  },
  {
   "cell_type": "code",
   "execution_count": null,
   "metadata": {},
   "outputs": [],
   "source": [
    "# Python 3 way with f-strings\n",
    "city_name = 'Davis'\n",
    "city_pop  = 65000\n",
    "#print(f'The number of people in {city_name} is {city_pop}.')"
   ]
  },
  {
   "cell_type": "code",
   "execution_count": null,
   "metadata": {},
   "outputs": [],
   "source": [
    "# Python 3 way with string formatting\n",
    "city_name = 'Davis'\n",
    "city_pop  = 65000\n",
    "#print('The number of people in {} is {}.'.format(city_name, city_pop))\n"
   ]
  },
  {
   "cell_type": "code",
   "execution_count": null,
   "metadata": {},
   "outputs": [],
   "source": [
    "# Python 3 f-string formatting in a loop\n",
    "us_cities = { 'New York': 8601186, 'Los Angeles': 4057841, 'Chicago': 2679044, 'Houston': 2359480,'Phoenix': 1711356}\n",
    "\n",
    "#for name, pop in us_cities.items():\n",
    "#    print(f'The number of people in {name} is {pop:,}.')\n"
   ]
  },
  {
   "cell_type": "markdown",
   "metadata": {},
   "source": [
    "### Using lambda expressions for simple in-line functions\n",
    "\n",
    "What is a lambda function ???\n",
    "\n",
    "In a nutshell, lambda functions are simple, one-line expressions that can take the place of functions. They are often easier to write and understand in the program.\n"
   ]
  },
  {
   "cell_type": "code",
   "execution_count": null,
   "metadata": {},
   "outputs": [],
   "source": [
    "# Simple example of function:\n",
    "\n",
    "def add_one(x):\n",
    "    \"\"\" Add one to number and return\"\"\"\n",
    "    return(x+1)\n",
    "\n",
    "result = add_one(25)\n",
    "#print(result)\n"
   ]
  },
  {
   "cell_type": "code",
   "execution_count": null,
   "metadata": {},
   "outputs": [],
   "source": [
    "# Simple example of lambda function to replace add_one:\n",
    "\n",
    "add_one = lambda x: x+1\n",
    "result = add_one(25)\n",
    "print(result)\n"
   ]
  },
  {
   "cell_type": "code",
   "execution_count": null,
   "metadata": {},
   "outputs": [],
   "source": [
    "#  But we can use more complicated lambda expressions\n",
    "\n",
    "# Examples using two variables:\n",
    "\n",
    "f1 = lambda x,y: x**3 + y**2 +2\n",
    "#print(f1(2,3))   # 2*3 + 3**2 +2 \n",
    "\n",
    "f2 = lambda x,y,z: abs(x-y) + z\n",
    "#print(f2(2,4,5))"
   ]
  },
  {
   "cell_type": "markdown",
   "metadata": {},
   "source": [
    "###  Being comfortable with list comprehensions:\n",
    "\n",
    "What is a list comprehension ???\n",
    "\n",
    "A list comprehension is an elegant way to define and create a list in python. We can create lists just like mathematical statements and in one line only. Here is the typical syntax for a list comprehension:\n",
    "\n",
    "\n",
    "        List = [expression(i) for i in another_list if filter(i)]\n",
    "  \n",
    "\n",
    "The examples below will help with your list comprehension \"comprehension\":\n",
    "\n"
   ]
  },
  {
   "cell_type": "code",
   "execution_count": null,
   "metadata": {},
   "outputs": [],
   "source": [
    "# Very simple (dumb) example of list comprehension\n",
    "\n",
    "fruits = ['banana','apple', 'mango', 'kiwi', 'orange', 'apricot']\n",
    "list1 = [x for x in fruits]\n",
    "#print(list1)\n"
   ]
  },
  {
   "cell_type": "code",
   "execution_count": null,
   "metadata": {},
   "outputs": [],
   "source": [
    "# More complcated example of list comprehension\n",
    "# Make a list of the squares of odd numbers between 1 and 21\n",
    "\n",
    "list2  =  [x**2  for x in range (1, 21)   if  x % 2 == 1]\n",
    "#print(list2)"
   ]
  },
  {
   "cell_type": "markdown",
   "metadata": {},
   "source": [
    "In the above example:\n",
    "\n",
    "        x**2 is the expression.\n",
    "        range (1, 11) is the input sequence or another list.\n",
    "        x is the variable.\n",
    "        if x % 2 == 1 is the if filter part (conditional)."
   ]
  },
  {
   "cell_type": "code",
   "execution_count": null,
   "metadata": {},
   "outputs": [],
   "source": [
    "# This list comprehension does the same work as: \n",
    "\n",
    "new_list = []\n",
    "for x in range(1,21):\n",
    "    if x % 2 ==1:\n",
    "        new_list.append(x**2)\n",
    "     \n",
    "#print(new_list)\n",
    "    "
   ]
  },
  {
   "cell_type": "code",
   "execution_count": null,
   "metadata": {},
   "outputs": [],
   "source": [
    "# List comprehensions can include buit-in functions\n",
    "# Suppose we want to capitalize all fruit names in 'fruits' list in put in a new list\n",
    "\n",
    "fruits = ['banana','apple', 'mango', 'kiwi', 'orange', 'apricot']\n",
    "list2 = [ name.capitalize() for name in fruits ]\n",
    "#print(list2)\n"
   ]
  },
  {
   "cell_type": "code",
   "execution_count": null,
   "metadata": {},
   "outputs": [],
   "source": []
  }
 ],
 "metadata": {
  "kernelspec": {
   "display_name": "Python 3",
   "language": "python",
   "name": "python3"
  },
  "language_info": {
   "codemirror_mode": {
    "name": "ipython",
    "version": 3
   },
   "file_extension": ".py",
   "mimetype": "text/x-python",
   "name": "python",
   "nbconvert_exporter": "python",
   "pygments_lexer": "ipython3",
   "version": "3.8.5"
  },
  "toc": {
   "base_numbering": 1,
   "nav_menu": {},
   "number_sections": true,
   "sideBar": true,
   "skip_h1_title": false,
   "title_cell": "Table of Contents",
   "title_sidebar": "Contents",
   "toc_cell": false,
   "toc_position": {},
   "toc_section_display": true,
   "toc_window_display": false
  }
 },
 "nbformat": 4,
 "nbformat_minor": 2
}
