{
 "cells": [
  {
   "cell_type": "markdown",
   "metadata": {},
   "source": [
    "# The Zen of Python\n",
    "\n",
    "    Beautiful is better than ugly.\n",
    "\n",
    "    Explicit is better than implicit.\n",
    "\n",
    "    Simple is better than complex.\n",
    "\n",
    "    Complex is better than complicated.\n",
    "\n",
    "    Flat is better than nested.\n",
    "\n",
    "    Sparse is better than dense.\n",
    "\n",
    "    Readability counts.\n",
    "\n",
    "    Special cases aren't special enough to break the rules.\n",
    "    Although practicality beats purity.\n",
    "    \n",
    "    Errors should never pass silently. Unless explicitly silenced.\n",
    "    \n",
    "    In the face of ambiguity, refuse the temptation to guess.\n",
    "    \n",
    "    There should be one-- and preferably only one --obvious way to do it.    \n",
    "    Although that way may not be obvious at first unless you're Dutch.\n",
    "    \n",
    "    Now is better than never.    \n",
    "    Although never is often better than *right* now.\n",
    "    \n",
    "    If the implementation is hard to explain, it's a bad idea.   \n",
    "    If the implementation is easy to explain, it may be a good idea.\n",
    "    \n",
    "    Namespaces are one honking great idea -- let's do more of those!\n",
    "    \n",
    "    \n",
    "## Easter Egg\n",
    "    "
   ]
  },
  {
   "cell_type": "code",
   "execution_count": null,
   "metadata": {},
   "outputs": [],
   "source": [
    "#import this"
   ]
  },
  {
   "cell_type": "markdown",
   "metadata": {},
   "source": [
    "## Sparse is better than dense."
   ]
  },
  {
   "cell_type": "code",
   "execution_count": null,
   "metadata": {},
   "outputs": [],
   "source": [
    "# Use one statement of code per line\n",
    "# Bad practice\n",
    "x = 45; y= 16 ; z = 48\n",
    "print(x); print(y); print(z)\n",
    "if x == 45: print('Sum of y and z is {}'.format(y+z))\n"
   ]
  },
  {
   "cell_type": "code",
   "execution_count": null,
   "metadata": {},
   "outputs": [],
   "source": [
    "# Good practice\n",
    "x,y,z = 45,16,48  # Okay to do multiple assignment this way\n",
    "print(x)\n",
    "print(y)\n",
    "print(z)\n",
    "if x == 45:\n",
    "    print('Sum of y and z is {}'.format(y+z))\n"
   ]
  },
  {
   "cell_type": "markdown",
   "metadata": {},
   "source": [
    "## Readability counts."
   ]
  },
  {
   "cell_type": "markdown",
   "metadata": {},
   "source": [
    "Example of bad practice from **C** language below:\n",
    "\n",
    "What is this program doing??\n",
    "\n",
    "```C\n",
    "\n",
    "main( )\n",
    "{\n",
    "int x1,x2,x3;\n",
    "printf(\"Centigrade to Farenheit temperature table\\n\\n\");\n",
    "for(x1 = -2;x1 <= 12;x1 = 1){\n",
    "x3 = 10 * x1; x2 = 32 + (x3 * 9)/5;\n",
    "printf(\" C =%4d F =%4d \",x3,x2);\n",
    "if (x3 == 0)\n",
    "printf(\"Freezing point of water\");\n",
    "if (x3 == 100)\n",
    "printf(\"Boiling point of water\");\n",
    "printf(\"\\n\");\n",
    "}\n",
    "}\n",
    "\n",
    "```\n",
    "\n",
    "Let's try that again with python making it more readable by:\n",
    "\n",
    "+ Using meaningful variable names\n",
    "\n",
    "+ Using white space and indentation\n",
    "\n",
    "+ Using comments and doc strings where appropriate \n"
   ]
  },
  {
   "cell_type": "code",
   "execution_count": null,
   "metadata": {},
   "outputs": [],
   "source": [
    "# good practice\n",
    "def C_to_F_table():\n",
    "    \"\"\"\n",
    "    Temperature conversion program that creates and displays \n",
    "    a table of farenheit and centigrade temperatures, and lists \n",
    "    the freezing and boiling points of water.\n",
    "    \"\"\"\n",
    "    print(\"Centigrade to farenheit temp table\")\n",
    "    counts = list(range(-2,15))    # Values included in table\n",
    "    for count in counts:\n",
    "        centigrade = 10 * count\n",
    "        farenheit  = 32 + (centigrade * 9)/5\n",
    "        print(f\" {centigrade: >6}      {round(farenheit): >6}\", end='')\n",
    "        if (centigrade == 0):\n",
    "            print(\"   Freezing point of water\")\n",
    "        elif (centigrade == 100):\n",
    "            print(\"   Boiling point of water\")\n",
    "        else:\n",
    "            print(' ')\n",
    "            "
   ]
  },
  {
   "cell_type": "code",
   "execution_count": null,
   "metadata": {},
   "outputs": [],
   "source": [
    "#C_to_F_table()"
   ]
  },
  {
   "cell_type": "markdown",
   "metadata": {},
   "source": [
    "## Flat is better than nested.\n",
    "\n",
    "Smaller code, with fewer **nested** levels, is simpler and better"
   ]
  },
  {
   "cell_type": "code",
   "execution_count": null,
   "metadata": {},
   "outputs": [],
   "source": [
    "# Bad practice\n",
    "my_input_numbers = [1,2,3,4,5,6,7,8]\n",
    "my_odd_numbers = []\n",
    "\n",
    "for number in my_input_numbers:\n",
    "    if number % 2 != 0:\n",
    "        my_odd_numbers.append(number)\n",
    "\n",
    "print(my_odd_numbers)"
   ]
  },
  {
   "cell_type": "code",
   "execution_count": null,
   "metadata": {},
   "outputs": [],
   "source": [
    "# Good practice - Code is flattened with the use list comprehension\n",
    "\n",
    "my_input_numbers = [1,2,3,4,5,6,7,8]\n",
    "my_odd_numbers = [x for x in my_input_numbers if x%2 != 0]\n",
    "print (my_odd_numbers)"
   ]
  },
  {
   "cell_type": "code",
   "execution_count": null,
   "metadata": {},
   "outputs": [],
   "source": [
    "# Bad practice\n",
    "#  Task - Create a list of tuples from integer ranges\n",
    "results = []\n",
    "for i in range(10):\n",
    "    for j in range(10):\n",
    "        results.append((i, j))\n",
    "#print(results)        "
   ]
  },
  {
   "cell_type": "code",
   "execution_count": null,
   "metadata": {},
   "outputs": [],
   "source": [
    "# Better - flattened code with list comprehension\n",
    "results = [(i, j) for i in range(10) for j in range(10)]\n",
    "#print(results)"
   ]
  },
  {
   "cell_type": "markdown",
   "metadata": {},
   "source": [
    "### Task :  given three numbers , find the largest number"
   ]
  },
  {
   "cell_type": "code",
   "execution_count": null,
   "metadata": {},
   "outputs": [],
   "source": [
    "# Find the largest of the following variables\n",
    "num1 = 10\n",
    "num2 = 14\n",
    "num3 = 12"
   ]
  },
  {
   "cell_type": "code",
   "execution_count": null,
   "metadata": {},
   "outputs": [],
   "source": [
    "# Bad Practice - creating your own code to duplicate a built-in function\n",
    "\n",
    "if (num1 >= num2) and (num1 >= num3):\n",
    "   largest = num1\n",
    "elif (num2 >= num1) and (num2 >= num3):\n",
    "   largest = num2\n",
    "else:\n",
    "   largest = num3\n",
    "\n",
    "#print(\"The largest number is\", largest)"
   ]
  },
  {
   "cell_type": "code",
   "execution_count": null,
   "metadata": {},
   "outputs": [],
   "source": [
    "# Good practice - Use the built-in function max\n",
    "\n",
    "#(\"The largest number is\", max(num1,num2,num3))"
   ]
  },
  {
   "cell_type": "code",
   "execution_count": null,
   "metadata": {},
   "outputs": [],
   "source": []
  }
 ],
 "metadata": {
  "kernelspec": {
   "display_name": "Python 3",
   "language": "python",
   "name": "python3"
  },
  "language_info": {
   "codemirror_mode": {
    "name": "ipython",
    "version": 3
   },
   "file_extension": ".py",
   "mimetype": "text/x-python",
   "name": "python",
   "nbconvert_exporter": "python",
   "pygments_lexer": "ipython3",
   "version": "3.8.5"
  },
  "toc": {
   "base_numbering": 1,
   "nav_menu": {},
   "number_sections": true,
   "sideBar": true,
   "skip_h1_title": false,
   "title_cell": "Table of Contents",
   "title_sidebar": "Contents",
   "toc_cell": false,
   "toc_position": {},
   "toc_section_display": true,
   "toc_window_display": false
  }
 },
 "nbformat": 4,
 "nbformat_minor": 2
}
