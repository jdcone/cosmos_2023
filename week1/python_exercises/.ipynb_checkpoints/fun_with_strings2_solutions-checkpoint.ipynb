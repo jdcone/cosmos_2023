{
 "cells": [
  {
   "cell_type": "markdown",
   "metadata": {},
   "source": [
    "# Solutions to Exercises : Fun with Python strings 2\n",
    "\n",
    "Below are a more challenging series of exercises for manipulating strings. Try them if you finish 'fun_with_string1' and are ready for something more difficult. Most answers are short, so don't get too carried away (verbose). \n",
    "\n",
    "\n",
    "Answers are provided in a separate notebook called 'fun_with_strings2_solutions'.\n"
   ]
  },
  {
   "cell_type": "markdown",
   "metadata": {},
   "source": [
    "### Write a Python function to convert a given string to all uppercase if it contains at  least 2 uppercase characters in the first 4 characters\n",
    "\n",
    "```    \n",
    "    Sample String : 'aBdEfgtrghj'\n",
    "    Expected Result : 'ABDEFGTRGHJ' \n",
    "\n",
    "    Sample String : 'Interactive Python'\n",
    "    Expected Result : 'Interactive Python'\n",
    "```        "
   ]
  },
  {
   "cell_type": "code",
   "execution_count": null,
   "metadata": {},
   "outputs": [],
   "source": [
    "def convert_upper(string1):\n",
    "    up_count = 0\n",
    "    for char in string1[0:4]:\n",
    "        if char.isupper():\n",
    "            up_count += 1\n",
    "    if up_count < 2:\n",
    "        return string1\n",
    "    else:\n",
    "        return string1.upper()\n",
    "print(convert_upper('aBdEfgtrghj'))\n",
    "print(convert_upper('Interactive Python'))"
   ]
  },
  {
   "cell_type": "markdown",
   "metadata": {},
   "source": [
    "### Write function to get a string from a given string where all occurrences of its first char have been changed to '\\$', except the first char itself.\n",
    "\n",
    "```\n",
    "Sample String : 'restart the rotor'\n",
    "Expected Result : 'resta$t the $oto$'\n",
    "```    "
   ]
  },
  {
   "cell_type": "code",
   "execution_count": null,
   "metadata": {},
   "outputs": [],
   "source": [
    "def change_str(string1):\n",
    "    first_char = string1[0]\n",
    "    string2 = first_char\n",
    "    for char in string1[1:]:\n",
    "        if char == first_char:\n",
    "            string2 += '$'\n",
    "        else:\n",
    "            string2 += char\n",
    "    return string2\n",
    "print(change_str( 'restart the rotor'))"
   ]
  },
  {
   "cell_type": "markdown",
   "metadata": {},
   "source": [
    "### Write function to get a single string from two given strings, separated by a space and swap the first two characters of each string.\n",
    "\n",
    "```\n",
    "    Sample Strings : 'abc', 'xyz' \n",
    "    Expected Result : 'xyc abz'\n",
    "```    "
   ]
  },
  {
   "cell_type": "code",
   "execution_count": null,
   "metadata": {},
   "outputs": [],
   "source": [
    "def swap_str(string1,string2):\n",
    "    first_str  = string2[0:2] + string1[2:]\n",
    "    second_str = string1[0:2] + string2[2:]\n",
    "    return first_str + ' ' +  second_str \n",
    "print(swap_str('abc', 'xyz'))"
   ]
  },
  {
   "cell_type": "markdown",
   "metadata": {},
   "source": [
    "### Write function to add 'ing' at the end of a given string (length should be at least 3):\n",
    "\n",
    "> If the given string already ends with 'ing' then add 'ly' instead. \n",
    "\n",
    "> If the string length of the given string is less than 3, leave it unchanged.\n",
    "\n",
    "```\n",
    "    Sample String : 'abc'\n",
    "    Expected Result : 'abcing' \n",
    "    Sample String : 'string'\n",
    "    Expected Result : 'stringly'\n",
    "```    "
   ]
  },
  {
   "cell_type": "code",
   "execution_count": null,
   "metadata": {},
   "outputs": [],
   "source": [
    "\n",
    "def add_gerund(string1):\n",
    "    if len(string1)< 3:\n",
    "        return string1\n",
    "    if string1[-3:] == 'ing':\n",
    "        string2 = string1 + 'ly'\n",
    "    else:\n",
    "        string2 = string1 + 'ing'\n",
    "    return string2\n",
    "print (add_gerund( 'abc'))\n",
    "print (add_gerund( 'string'))   "
   ]
  },
  {
   "cell_type": "markdown",
   "metadata": {},
   "source": [
    "\n",
    "## Even more Challenging string problems:\n",
    "\n",
    "\n",
    "\n",
    "> If you finish all of the above , try the problems below"
   ]
  },
  {
   "cell_type": "markdown",
   "metadata": {},
   "source": [
    "### Write function to replace all vowels with character & in a string\n",
    "\n",
    "```\n",
    "    Input: 'ilovetoprogram' \n",
    "    Output: '&l&v&t&pr&gr&m'\n",
    "```    "
   ]
  },
  {
   "cell_type": "code",
   "execution_count": null,
   "metadata": {},
   "outputs": [],
   "source": [
    "\n",
    "def replace_vowels(string1):\n",
    "    vowels = 'aeiou'\n",
    "    string2 = string1[:]\n",
    "    for char in string1:\n",
    "        if char in vowels:\n",
    "            string2 = string2.replace(char,'&')\n",
    "    return string2    \n",
    "print(replace_vowels('ilovetoprogram'))"
   ]
  },
  {
   "cell_type": "markdown",
   "metadata": {},
   "source": [
    "### Write a Python function to count repeated characters in a string.\n",
    "\n",
    ">  Note: Use a dictionary for this one\n",
    "\n",
    "```   \n",
    "    Sample string: 'thequickbrownfoxjumpsoverthelazydog'\n",
    "    Expected output :\n",
    "        o 4\n",
    "        e 3\n",
    "        u 2\n",
    "        h 2\n",
    "        r 2\n",
    "        t 2\n",
    "```    "
   ]
  },
  {
   "cell_type": "code",
   "execution_count": null,
   "metadata": {},
   "outputs": [],
   "source": [
    "\n",
    "def repeat_char(string1):\n",
    "    char_dict = {}\n",
    "    for char in string1:\n",
    "        if char in char_dict:\n",
    "            char_dict[char] += 1\n",
    "        else: \n",
    "            char_dict[char] = 1\n",
    "    for char, count in char_dict.items():\n",
    "        if count > 1:\n",
    "            print (char, count)\n",
    "string1 = 'thequickbrownfoxjumpsoverthelazydog'\n",
    "repeat_char(string1) "
   ]
  },
  {
   "cell_type": "markdown",
   "metadata": {},
   "source": [
    "### Write a Python function to create a Caesar encryption.\n",
    "\n",
    "\n",
    "> Note : In cryptography, a Caesar cipher, also known as Caesar's cipher, or Caesar shift, is one of the simplest and most widely known encryption techniques. It is a type of substitution cipher in which each letter in the plain\n",
    "text is replaced by a letter some fixed number of positions down the alphabet. For example, with a left shift of 3, D would be replaced by A, E would become B, and so on. The method is named after Julius Caesar, who used it in his private correspondence.\n",
    "\n",
    "> Note : Be careful to account for wrap-arounds ( 'z' shifted by 2 becomes 'b')\n",
    "    \n",
    "    \n",
    "```\n",
    "    def caesar_encrypt(string1, shift):\n",
    "\n",
    "\n",
    "         return string2   # with all characters in string1 shifted by 'shift' number of places\n",
    "\n",
    "    Sample input: 'Gaius Julius Caesar', shift = 6\n",
    "    Output:  'Mgoay Paroay Igkygx'\n",
    "```    "
   ]
  },
  {
   "cell_type": "code",
   "execution_count": null,
   "metadata": {},
   "outputs": [],
   "source": [
    "         \n",
    "\n",
    "def caesar_encrypt(string1,shift):\n",
    "#\n",
    "#  YOUR CODE GOES HERE\n",
    "#  \n",
    "string1= 'Gaius Julius Caesar'          \n",
    "print (caesar_encrypt(string1,6))"
   ]
  },
  {
   "cell_type": "code",
   "execution_count": null,
   "metadata": {},
   "outputs": [],
   "source": [
    "def caesar_encrypt(string1,shift):\n",
    "    letters = 'abcdefghijklmnopqrstuvwxyz'\n",
    "    num_ltr = len(letters)\n",
    "    string2 = ''\n",
    "    for char in string1:\n",
    "        lchar = char.lower()\n",
    "        if lchar not in letters:\n",
    "            string2 += char\n",
    "        else:\n",
    "            idx = letters.find(lchar)\n",
    "            new_idx = (idx + shift)%num_ltr\n",
    "            new_letter = letters[new_idx]\n",
    "            if char.isupper():\n",
    "                string2 += new_letter.upper()\n",
    "            else:\n",
    "                string2 += new_letter\n",
    "    return string2\n",
    "string1= 'Gaius Julius Caesar'          \n",
    "print (caesar_encrypt(string1,6))\n",
    "\n"
   ]
  }
 ],
 "metadata": {
  "kernelspec": {
   "display_name": "Python 3",
   "language": "python",
   "name": "python3"
  },
  "language_info": {
   "codemirror_mode": {
    "name": "ipython",
    "version": 3
   },
   "file_extension": ".py",
   "mimetype": "text/x-python",
   "name": "python",
   "nbconvert_exporter": "python",
   "pygments_lexer": "ipython3",
   "version": "3.8.5"
  },
  "toc": {
   "base_numbering": 1,
   "nav_menu": {},
   "number_sections": true,
   "sideBar": true,
   "skip_h1_title": false,
   "title_cell": "Table of Contents",
   "title_sidebar": "Contents",
   "toc_cell": false,
   "toc_position": {},
   "toc_section_display": true,
   "toc_window_display": false
  }
 },
 "nbformat": 4,
 "nbformat_minor": 4
}
