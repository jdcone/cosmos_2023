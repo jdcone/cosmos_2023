{
 "cells": [
  {
   "cell_type": "markdown",
   "metadata": {},
   "source": [
    "# Exercises : Fun with Python strings 1\n",
    "\n",
    "Below are a series of exercises for manipulating strings. Most answers are only one line of code, so don't get too carried away (verbose). \n",
    "\n",
    "\n",
    "Answers are provided in a separate notebook called 'fun_with_strings1_solutions'.\n"
   ]
  },
  {
   "cell_type": "markdown",
   "metadata": {},
   "source": [
    "## Write function to calculate the length of a string."
   ]
  },
  {
   "cell_type": "code",
   "execution_count": null,
   "metadata": {},
   "outputs": [],
   "source": [
    "\n",
    " def length(string1):\n",
    "#\n",
    "#   YOUR CODE GOES HERE\n",
    "#\n",
    "print(length('abcde'))"
   ]
  },
  {
   "cell_type": "markdown",
   "metadata": {},
   "source": [
    "## Write function to remove(strip) spaces from beginning and end of a given string.\n",
    "\n",
    "```\n",
    "> Input:  \"  Python programming  \"\n",
    "\n",
    "> Output: \"Python programming\"\n",
    "\n",
    "```"
   ]
  },
  {
   "cell_type": "code",
   "execution_count": null,
   "metadata": {},
   "outputs": [],
   "source": [
    " def strip_str(string1):\n",
    "#\n",
    "#   YOUR CODE GOES HERE\n",
    "#\n",
    "print(strip_str(\"  Python programming  \"))"
   ]
  },
  {
   "cell_type": "markdown",
   "metadata": {},
   "source": [
    "# Write a Python function to count occurrences of a substring in a string.\n",
    " \n",
    "``` \n",
    ">  Sample input: string1= 'GAGCAGCTCTACATGGACCAGTTTCAGCTTTAAAAGCACAAA'\n",
    "               string2 = 'CAG'\n",
    "\n",
    ">  Expected output: Count = 3 \n",
    "```"
   ]
  },
  {
   "cell_type": "code",
   "execution_count": null,
   "metadata": {},
   "outputs": [],
   "source": [
    "\n",
    "def count_sub(string1,string2):\n",
    "#\n",
    "#   YOUR CODE GOES HERE\n",
    "#\n",
    "string1= 'GAGCAGCTCTACATGGACCAGTTTCAGCTTTAAAAGCACAAA'\n",
    "string2 = 'CAG'\n",
    "print(count_sub(string1,string2))"
   ]
  },
  {
   "cell_type": "markdown",
   "metadata": {},
   "source": [
    "## Write a Python function to reverse a string,  if its length is a multiple of 4\n",
    "\n",
    "```\n",
    "    Sample String : 'aBdEfgtrghjk'\n",
    "    Expected Result : 'kjhgrtgfEdBa'\n",
    "    \n",
    "    Sample String : 'Python3'\n",
    "    Expected Result : 'Python3'\n",
    "```        "
   ]
  },
  {
   "cell_type": "code",
   "execution_count": null,
   "metadata": {},
   "outputs": [],
   "source": [
    "def reverse_str(string1):\n",
    "#\n",
    "#   YOUR CODE GOES HERE\n",
    "#\n",
    "print(reverse_str('aBdEfgtrghjk'))\n",
    "print(reverse_str('Python3')) "
   ]
  },
  {
   "cell_type": "markdown",
   "metadata": {},
   "source": [
    "## Write function to capitalize first and last letters of a given string.\n",
    "\n",
    "```\n",
    "    Input: 'ilovetoprogram'\n",
    "    Output: 'IlovetoprograM' \n",
    "```        \n",
    "        "
   ]
  },
  {
   "cell_type": "code",
   "execution_count": null,
   "metadata": {},
   "outputs": [],
   "source": [
    "\n",
    "def cap_first_last(string1):\n",
    "#\n",
    "#   YOUR CODE GOES HERE\n",
    "#\n",
    "print(cap_first_last('ilovetoprogram')) "
   ]
  }
 ],
 "metadata": {
  "kernelspec": {
   "display_name": "Python 3",
   "language": "python",
   "name": "python3"
  },
  "language_info": {
   "codemirror_mode": {
    "name": "ipython",
    "version": 3
   },
   "file_extension": ".py",
   "mimetype": "text/x-python",
   "name": "python",
   "nbconvert_exporter": "python",
   "pygments_lexer": "ipython3",
   "version": "3.8.5"
  },
  "toc": {
   "base_numbering": 1,
   "nav_menu": {},
   "number_sections": true,
   "sideBar": true,
   "skip_h1_title": false,
   "title_cell": "Table of Contents",
   "title_sidebar": "Contents",
   "toc_cell": false,
   "toc_position": {},
   "toc_section_display": true,
   "toc_window_display": false
  }
 },
 "nbformat": 4,
 "nbformat_minor": 4
}
