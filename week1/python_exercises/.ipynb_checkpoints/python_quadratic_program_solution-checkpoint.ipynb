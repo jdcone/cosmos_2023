{
 "cells": [
  {
   "cell_type": "markdown",
   "metadata": {},
   "source": [
    "# Solution to Quadratic Program\n",
    "\n",
    "Here is the missing code for the Exercise above:\n",
    "\n",
    "```\n",
    "#  Solve equation\n",
    "radical = b*b - 4*a*c\n",
    "if radical < 0:\n",
    "    print('No real roots exist')\n",
    "    sys.exit(0)   # Exits program !\n",
    "else:\n",
    "    root1 = (-b + np.sqrt(radical))/(2*a)\n",
    "    root2 = (-b - np.sqrt(radical))/(2*a)\n",
    "    print(f' Real roots are: {root1} and {root2} ')\n",
    "    \n",
    "```    \n",
    "\n",
    "\n"
   ]
  }
 ],
 "metadata": {
  "kernelspec": {
   "display_name": "Python 3",
   "language": "python",
   "name": "python3"
  },
  "language_info": {
   "codemirror_mode": {
    "name": "ipython",
    "version": 3
   },
   "file_extension": ".py",
   "mimetype": "text/x-python",
   "name": "python",
   "nbconvert_exporter": "python",
   "pygments_lexer": "ipython3",
   "version": "3.8.5"
  },
  "toc": {
   "base_numbering": 1,
   "nav_menu": {},
   "number_sections": true,
   "sideBar": true,
   "skip_h1_title": false,
   "title_cell": "Table of Contents",
   "title_sidebar": "Contents",
   "toc_cell": false,
   "toc_position": {},
   "toc_section_display": true,
   "toc_window_display": false
  }
 },
 "nbformat": 4,
 "nbformat_minor": 4
}
