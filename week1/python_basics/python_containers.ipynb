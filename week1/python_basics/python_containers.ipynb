{
 "cells": [
  {
   "cell_type": "markdown",
   "metadata": {},
   "source": [
    "# Python Containers\n",
    "\n",
    "All variables we have used to this point have had a single value. But we want a variable that supports multiple values at once - a 'container' of values. In python, a container is an object that contains any number of other objects. What does that mean?\n",
    "\n",
    "\n",
    "A container is just a box that contains other items, like numbers, strings, booleans, and other boxes!\n",
    "\n",
    "Python has a number of built-in container types that we will use, including:\n",
    "\n",
    "             >lists, tuples, arrays, and dictionaries. \n",
    "             \n",
    "\n",
    "We'll start with **lists** which are simplest to understand.\n",
    "\n",
    "\n"
   ]
  },
  {
   "cell_type": "markdown",
   "metadata": {},
   "source": [
    "## Lists"
   ]
  },
  {
   "cell_type": "markdown",
   "metadata": {},
   "source": [
    "Most basic type of container in python is a \"list\". It's just a list of quantities in a row, one after the other. What's special about python lists, is that all of the \"elements\" in the list do not have to be the same type."
   ]
  },
  {
   "cell_type": "markdown",
   "metadata": {},
   "source": [
    "### How to create lists"
   ]
  },
  {
   "cell_type": "code",
   "execution_count": null,
   "metadata": {},
   "outputs": [],
   "source": [
    "# Here is an example of a list of numbers\n",
    "\n",
    "my_list = [ 1, 2, 3, 4 ,5, 10]\n",
    "#print(my_list)"
   ]
  },
  {
   "cell_type": "code",
   "execution_count": 2,
   "metadata": {},
   "outputs": [
    {
     "name": "stdout",
     "output_type": "stream",
     "text": [
      "['Bob', 6, 78.98, True, 10, [3, 6, 8]]\n"
     ]
    }
   ],
   "source": [
    "# Here is a list that contains numbers, strings, booleans and other lists!\n",
    "\n",
    "my_list = [ 'Bob', 6, 78.98, True, 10, [3, 6, 8]]\n",
    "print(my_list)"
   ]
  },
  {
   "cell_type": "code",
   "execution_count": 3,
   "metadata": {},
   "outputs": [
    {
     "data": {
      "text/plain": [
       "list"
      ]
     },
     "execution_count": 3,
     "metadata": {},
     "output_type": "execute_result"
    }
   ],
   "source": [
    "# Here is how we create an empty list\n",
    "\n",
    "my_list = []\n",
    "\n",
    "type(my_list)"
   ]
  },
  {
   "cell_type": "markdown",
   "metadata": {},
   "source": [
    "### To add a new element to end of list, use \"append\":"
   ]
  },
  {
   "cell_type": "code",
   "execution_count": 4,
   "metadata": {},
   "outputs": [
    {
     "name": "stdout",
     "output_type": "stream",
     "text": [
      "[1, 2, 3, 4, 5, 10, 6, 'apples']\n"
     ]
    }
   ],
   "source": [
    "\n",
    "r = [1, 2, 3, 4, 5, 10]\n",
    "\n",
    "r.append(6)\n",
    "r.append('apples')\n",
    "\n",
    "print(r)\n"
   ]
  },
  {
   "cell_type": "markdown",
   "metadata": {},
   "source": [
    "### To delete an existing element from a list, use either \"remove\" or \"del\":\n",
    "\n",
    "    remove removes the first matching value, not a specific index\n",
    "        \n",
    "    del removes the item at a specific index:\n",
    "\n",
    "\n"
   ]
  },
  {
   "cell_type": "code",
   "execution_count": 5,
   "metadata": {},
   "outputs": [
    {
     "name": "stdout",
     "output_type": "stream",
     "text": [
      "[0, 3, 2]\n"
     ]
    }
   ],
   "source": [
    "# 'remove' removes the first matching value, not a specific index:\n",
    "\n",
    "a = [0, 2, 3, 2]\n",
    "a.remove(2)\n",
    "print(a)     #  Only the first occurence of '2' is removed\n"
   ]
  },
  {
   "cell_type": "code",
   "execution_count": 6,
   "metadata": {},
   "outputs": [
    {
     "name": "stdout",
     "output_type": "stream",
     "text": [
      "[9, 7, 6]\n"
     ]
    }
   ],
   "source": [
    "# 'del' removes the the item at a specific index:\n",
    "\n",
    "a = [9, 8, 7, 6]\n",
    "del a[1]\n",
    "print(a)  # Removes the 2nd item in list"
   ]
  },
  {
   "cell_type": "markdown",
   "metadata": {},
   "source": [
    "###  \"Slicing\" lets you access elements of the list"
   ]
  },
  {
   "cell_type": "code",
   "execution_count": 7,
   "metadata": {},
   "outputs": [
    {
     "name": "stdout",
     "output_type": "stream",
     "text": [
      "[7, 9, 5]\n"
     ]
    }
   ],
   "source": [
    "# print the 4th element of r : index starts at 0!\n",
    "r = [2, 7, 9, 5, 'apples', 10]\n",
    "\n",
    "\n",
    "print(r[1:4])"
   ]
  },
  {
   "cell_type": "markdown",
   "metadata": {},
   "source": [
    "Values in a list can be changed: we say a list is 'mutable'"
   ]
  },
  {
   "cell_type": "code",
   "execution_count": 9,
   "metadata": {},
   "outputs": [
    {
     "name": "stdout",
     "output_type": "stream",
     "text": [
      "[2, 7, 9, 'oranges', 'apples', 10]\n"
     ]
    }
   ],
   "source": [
    "r = [2, 7, 9, 5, 'apples', 10]\n",
    "\n",
    "r[3] = 'oranges'  # We change the value of the 4th element of the list  \n",
    "print(r)"
   ]
  },
  {
   "cell_type": "code",
   "execution_count": null,
   "metadata": {},
   "outputs": [],
   "source": [
    "# Print the first 4 values of list : \n",
    "\n",
    "r = [2, 7, 9, 5, 'apples', 10]\n",
    "#prints(r[0:4])"
   ]
  },
  {
   "cell_type": "markdown",
   "metadata": {},
   "source": [
    "To go in reverse order, use negative indices"
   ]
  },
  {
   "cell_type": "code",
   "execution_count": 12,
   "metadata": {},
   "outputs": [
    {
     "name": "stdout",
     "output_type": "stream",
     "text": [
      "[2, 7, 9, 'oranges', 'apples', 10]\n",
      "10\n",
      "apples\n"
     ]
    }
   ],
   "source": [
    "print(r)\n",
    "\n",
    "print(r[-1])   # Last item in list\n",
    "print(r[-2])   # Next to last item in list"
   ]
  },
  {
   "cell_type": "code",
   "execution_count": 13,
   "metadata": {},
   "outputs": [
    {
     "name": "stdout",
     "output_type": "stream",
     "text": [
      "[1, 3, 5, 6]\n"
     ]
    }
   ],
   "source": [
    "#  Starting with first item, select every second value from list\n",
    "\n",
    "r = [1, 2, 3, 4, 5, 10, 6, 'apples']\n",
    "\n",
    "print( r[::2])\n"
   ]
  },
  {
   "cell_type": "markdown",
   "metadata": {},
   "source": [
    "### Seeing the list in reverse order "
   ]
  },
  {
   "cell_type": "code",
   "execution_count": null,
   "metadata": {},
   "outputs": [],
   "source": [
    "#  Way to traverse list in reverse order\n",
    "\n",
    "r = [1, 2, 3, 4, 5, 10, 6, 'apples']\n",
    "\n",
    "#print( r[-1::-1])   # Start with last item, go in reverse order\n",
    "#list(reversed(r))   # Python function which does this for you\n"
   ]
  },
  {
   "cell_type": "markdown",
   "metadata": {},
   "source": [
    "### Copying a list the right way"
   ]
  },
  {
   "cell_type": "code",
   "execution_count": null,
   "metadata": {},
   "outputs": [],
   "source": [
    "# Wrong way to make a copy of a list\n",
    "\n",
    "r = [1, 2, 3, 4, 5, 10, 6, 'apples']\n",
    "r_copy = r\n",
    "#print(r_copy)"
   ]
  },
  {
   "cell_type": "code",
   "execution_count": null,
   "metadata": {},
   "outputs": [],
   "source": [
    "# Now, let's change an item in r: What happens to the copy? \n",
    "\n",
    "r[0] = 86\n",
    "#print(r)\n",
    "#print(r_copy)"
   ]
  },
  {
   "cell_type": "markdown",
   "metadata": {},
   "source": [
    "### What happened ? \"r_copy\" is not a separate copy of r. It \"points\" to r. We must be careful...\n",
    "\n",
    "\n",
    "If we want to separate copy of r, we must use slicing, as shown below. \n"
   ]
  },
  {
   "cell_type": "code",
   "execution_count": null,
   "metadata": {},
   "outputs": [],
   "source": [
    "# To create separate copy of a list\n",
    "\n",
    "r = [1, 2, 3, 4, 5, 10, 6, 'apples']\n",
    "\n",
    "r_copy = r[:]\n",
    "print(r_copy)\n",
    "r[0] = 99\n",
    "#print(r, r_copy)"
   ]
  },
  {
   "cell_type": "markdown",
   "metadata": {},
   "source": [
    "### Using the range function and list (generator)"
   ]
  },
  {
   "cell_type": "code",
   "execution_count": 14,
   "metadata": {},
   "outputs": [
    {
     "name": "stdout",
     "output_type": "stream",
     "text": [
      "range(0, 10)\n"
     ]
    }
   ],
   "source": [
    "# Use range built-in function. Creates a special type of list called a 'generator'\n",
    "\n",
    "w = range(10)  # Starts at zero, goes to 9\n",
    "print(w)   "
   ]
  },
  {
   "cell_type": "code",
   "execution_count": 15,
   "metadata": {},
   "outputs": [
    {
     "name": "stdout",
     "output_type": "stream",
     "text": [
      "[1, 2, 3, 4, 5, 6, 7, 8, 9, 10]\n"
     ]
    }
   ],
   "source": [
    "# To use range as a list , we must turn it into a list:\n",
    "\n",
    "w = list(range(1, 11))  # Starts at 1, goes to 10!\n",
    "print(w)"
   ]
  },
  {
   "cell_type": "code",
   "execution_count": 16,
   "metadata": {},
   "outputs": [
    {
     "name": "stdout",
     "output_type": "stream",
     "text": [
      "[1, 11, 21, 31, 41, 51, 61, 71, 81, 91]\n",
      "Number of elements of w =  10\n",
      "Sum of all elements of w =  460\n"
     ]
    }
   ],
   "source": [
    "# get number of elements and sum of list: use builtin functions 'sum' and 'len'\n",
    "\n",
    "w = list(range(1,100,10))\n",
    "print (w)\n",
    "print (\"Number of elements of w = \", len(w))\n",
    "print (\"Sum of all elements of w = \", sum(w))\n"
   ]
  },
  {
   "cell_type": "markdown",
   "metadata": {},
   "source": [
    "# Exercise : List manipulation\n",
    "\n",
    "##      Write a script in cell below to perform the following operations (to test them all out!):\n",
    "\n",
    "    1 Create a variable that contains a list that holds the numbers 10 to 100 (i.e. 10, 11, 12, …, 99)\n",
    "\n",
    "    2 Add the value 100 to the end of the list\n",
    "    \n",
    "    3 Remove the 20th element of the list (index 19!)\n",
    "    \n",
    "    4 Remove the value 55\n",
    "          \n",
    "    5 Print the length of the list."
   ]
  },
  {
   "cell_type": "code",
   "execution_count": 21,
   "metadata": {},
   "outputs": [
    {
     "data": {
      "text/plain": [
       "[10,\n",
       " 11,\n",
       " 12,\n",
       " 13,\n",
       " 14,\n",
       " 15,\n",
       " 16,\n",
       " 17,\n",
       " 18,\n",
       " 19,\n",
       " 20,\n",
       " 21,\n",
       " 22,\n",
       " 23,\n",
       " 24,\n",
       " 25,\n",
       " 26,\n",
       " 27,\n",
       " 28,\n",
       " 30,\n",
       " 31,\n",
       " 32,\n",
       " 33,\n",
       " 34,\n",
       " 35,\n",
       " 36,\n",
       " 37,\n",
       " 38,\n",
       " 39,\n",
       " 40,\n",
       " 41,\n",
       " 42,\n",
       " 43,\n",
       " 44,\n",
       " 45,\n",
       " 46,\n",
       " 47,\n",
       " 48,\n",
       " 49,\n",
       " 50,\n",
       " 51,\n",
       " 52,\n",
       " 53,\n",
       " 54,\n",
       " 56,\n",
       " 57,\n",
       " 58,\n",
       " 59,\n",
       " 60,\n",
       " 61,\n",
       " 62,\n",
       " 63,\n",
       " 64,\n",
       " 65,\n",
       " 66,\n",
       " 67,\n",
       " 68,\n",
       " 69,\n",
       " 70,\n",
       " 71,\n",
       " 72,\n",
       " 73,\n",
       " 74,\n",
       " 75,\n",
       " 76,\n",
       " 77,\n",
       " 78,\n",
       " 79,\n",
       " 80,\n",
       " 81,\n",
       " 82,\n",
       " 83,\n",
       " 84,\n",
       " 85,\n",
       " 86,\n",
       " 87,\n",
       " 88,\n",
       " 89,\n",
       " 90,\n",
       " 91,\n",
       " 92,\n",
       " 93,\n",
       " 94,\n",
       " 95,\n",
       " 96,\n",
       " 97,\n",
       " 98,\n",
       " 99,\n",
       " 100]"
      ]
     },
     "execution_count": 21,
     "metadata": {},
     "output_type": "execute_result"
    }
   ],
   "source": [
    "# Hint for 1 - Use  list(range(10,100))\n",
    "\n",
    "\n",
    "w = list(range(10,100,1))\n",
    "w.append(100)\n",
    "del w[19]\n",
    "w.remove(55)\n",
    "len(w)\n",
    "w\n",
    "\n",
    "\n",
    "\n",
    "\n"
   ]
  },
  {
   "cell_type": "markdown",
   "metadata": {},
   "source": [
    "## Tuples"
   ]
  },
  {
   "cell_type": "markdown",
   "metadata": {},
   "source": [
    "Tuples are containers that look and act like lists, but are 'immutable' (cannot be changed). They are useful for ordered pairs and returning several values from a function."
   ]
  },
  {
   "cell_type": "markdown",
   "metadata": {},
   "source": [
    "### Packing a tuple"
   ]
  },
  {
   "cell_type": "code",
   "execution_count": 23,
   "metadata": {},
   "outputs": [
    {
     "name": "stdout",
     "output_type": "stream",
     "text": [
      "(3, 4, 5)\n",
      "3\n"
     ]
    }
   ],
   "source": [
    "# Tuples are enclosed by commas, not brackets\n",
    "\n",
    "point1 = (3, 4, 5)\n",
    "\n",
    "print (point1)\n",
    "print(point1[0])\n"
   ]
  },
  {
   "cell_type": "markdown",
   "metadata": {},
   "source": [
    "### Unpacking a tuple"
   ]
  },
  {
   "cell_type": "code",
   "execution_count": 24,
   "metadata": {},
   "outputs": [
    {
     "name": "stdout",
     "output_type": "stream",
     "text": [
      "3 4 5\n"
     ]
    }
   ],
   "source": [
    "point1 = (3, 4, 5)\n",
    "\n",
    "x1 ,y1 ,z1 = point1    # Unpacking a tuple\n",
    "print(x1,y1,z1)"
   ]
  },
  {
   "cell_type": "markdown",
   "metadata": {},
   "source": [
    "## Dictionaries"
   ]
  },
  {
   "cell_type": "markdown",
   "metadata": {},
   "source": [
    "Dictionaries are special types of python lists which allow lookup. We will use a dictionary\n",
    "when we look at converting DNA sequences to protein. \n"
   ]
  },
  {
   "cell_type": "markdown",
   "metadata": {},
   "source": [
    "###  How to create a dictionary"
   ]
  },
  {
   "cell_type": "code",
   "execution_count": null,
   "metadata": {},
   "outputs": [],
   "source": [
    "# Method 1: Using curly brackets '{ }' \n",
    "\n",
    "fruit_colors = { \"banana\" : \"yellow\", \"orange\" : \"orange\", \"strawberry\" : \"red\"}\n",
    "\n",
    "#print(fruit_colors[\"banana\"])\n"
   ]
  },
  {
   "cell_type": "code",
   "execution_count": 26,
   "metadata": {},
   "outputs": [
    {
     "name": "stdout",
     "output_type": "stream",
     "text": [
      "{'banana': 'yellow', 'orange': 'orange', 'strawberry': 'red'}\n"
     ]
    }
   ],
   "source": [
    "# Method 2: Using the 'dict' keyword and a list of tuples\n",
    "\n",
    "fruit_colors = dict( [ (\"banana\", \"yellow\"), (\"orange\", \"orange\"), (\"strawberry\", \"red\")] )\n",
    "\n",
    "print(fruit_colors)\n"
   ]
  },
  {
   "cell_type": "markdown",
   "metadata": {},
   "source": [
    "### Accessing dictionary contents by 'key' "
   ]
  },
  {
   "cell_type": "code",
   "execution_count": 27,
   "metadata": {},
   "outputs": [
    {
     "name": "stdout",
     "output_type": "stream",
     "text": [
      "yellow\n"
     ]
    }
   ],
   "source": [
    "\n",
    "print(fruit_colors[\"banana\"])\n"
   ]
  },
  {
   "cell_type": "markdown",
   "metadata": {},
   "source": [
    "### Adding new entries to dictionary:"
   ]
  },
  {
   "cell_type": "code",
   "execution_count": 28,
   "metadata": {},
   "outputs": [
    {
     "name": "stdout",
     "output_type": "stream",
     "text": [
      "{'banana': 'yellow', 'orange': 'orange', 'strawberry': 'red', 'apple': 'red', 'kiwi': 'green'}\n"
     ]
    }
   ],
   "source": [
    "fruit_colors = { \"banana\" : \"yellow\", \"orange\" : \"orange\", \"strawberry\" : \"red\"}\n",
    "#print(fruit_colors)\n",
    "\n",
    "fruit_colors[\"apple\"] = 'red'  # Adding a new key-value\n",
    "fruit_colors['kiwi']  = 'green'\n",
    "print(fruit_colors)\n"
   ]
  },
  {
   "cell_type": "markdown",
   "metadata": {},
   "source": [
    "### Removing existing entry from dictionary"
   ]
  },
  {
   "cell_type": "code",
   "execution_count": null,
   "metadata": {},
   "outputs": [],
   "source": [
    "# Use del to remove dictionary entry by key\n",
    "fruit_colors = { \"banana\" : \"yellow\", \"orange\" : \"orange\", \"strawberry\" : \"red\"}\n",
    "#print(fruit_colors)\n",
    "\n",
    "del fruit_colors[\"orange\"]\n",
    "#print(fruit_colors)"
   ]
  },
  {
   "cell_type": "markdown",
   "metadata": {
    "collapsed": true
   },
   "source": [
    "### Accessing dictionary contents by special dictionary methods:\n",
    "\n",
    "    1 keys()\n",
    "    2 values()\n",
    "    3 items()"
   ]
  },
  {
   "cell_type": "code",
   "execution_count": 31,
   "metadata": {},
   "outputs": [
    {
     "name": "stdout",
     "output_type": "stream",
     "text": [
      "dict_keys(['banana', 'orange', 'strawberry', 'apple'])\n",
      "dict_values(['yellow', 'orange', 'red', 'red'])\n",
      "dict_items([('banana', 'yellow'), ('orange', 'orange'), ('strawberry', 'red'), ('apple', 'red')])\n"
     ]
    }
   ],
   "source": [
    "fruit_colors = { \"banana\": \"yellow\", \"orange\": \"orange\", \"strawberry\": \"red\",\"apple\":'red' }\n",
    "\n",
    "fruits = fruit_colors.keys()  # List of all dictionary keys\n",
    "print(fruits)\n",
    "\n",
    "colors = fruit_colors.values()  # List of all dictionary values\n",
    "print(colors)\n",
    "\n",
    "items  = fruit_colors.items()\n",
    "print(items)                    # Prints a list of tuples: (fruit, color)"
   ]
  },
  {
   "cell_type": "markdown",
   "metadata": {},
   "source": [
    "# Exercise:  accessing a  dictionary\n",
    "\n",
    "Below is a line of python code that creates a dictionary of capitals cities by country.  \n",
    "\n",
    "```capitals = {\"USA\":\"Washington DC\", \"France\":\"Paris\", \"India\":\"New Delhi\", \"Canada\":\"Ottawa\"}```\n",
    "\n",
    "Copy this line into the cell below and complete the following tasks:\n",
    "\n",
    "    1. Lookup the capital of India and place result in variable called 'cap_name'.\n",
    "    \n",
    "    2. Create a list of countries in dictionary and assign to a variable called 'countries'\n",
    "    \n",
    "    3. Create a list of capital cities in dictionary and assign to a variable called 'cap_cities'\n",
    "\n"
   ]
  },
  {
   "cell_type": "code",
   "execution_count": 34,
   "metadata": {},
   "outputs": [
    {
     "name": "stdout",
     "output_type": "stream",
     "text": [
      "New Delhi\n",
      "dict_keys(['USA', 'France', 'India', 'Canada'])\n"
     ]
    }
   ],
   "source": [
    "capitals = {\"USA\":\"Washington DC\", \"France\":\"Paris\", \"India\":\"New Delhi\", \"Canada\":\"Ottawa\"}\n",
    "cap_name = capitals['India']\n",
    "print(cap_name)\n",
    "countries = capitals.keys()\n",
    "print(countries)\n",
    "cap_cities = capitals.values()\n",
    "pri\n",
    "\n",
    "\n"
   ]
  },
  {
   "cell_type": "code",
   "execution_count": null,
   "metadata": {},
   "outputs": [],
   "source": []
  }
 ],
 "metadata": {
  "celltoolbar": "Raw Cell Format",
  "kernelspec": {
   "display_name": "Python 3 (ipykernel)",
   "language": "python",
   "name": "python3"
  },
  "language_info": {
   "codemirror_mode": {
    "name": "ipython",
    "version": 3
   },
   "file_extension": ".py",
   "mimetype": "text/x-python",
   "name": "python",
   "nbconvert_exporter": "python",
   "pygments_lexer": "ipython3",
   "version": "3.9.12"
  },
  "toc": {
   "base_numbering": 1,
   "nav_menu": {},
   "number_sections": true,
   "sideBar": true,
   "skip_h1_title": false,
   "title_cell": "Table of Contents",
   "title_sidebar": "Contents",
   "toc_cell": false,
   "toc_position": {},
   "toc_section_display": true,
   "toc_window_display": false
  }
 },
 "nbformat": 4,
 "nbformat_minor": 1
}
