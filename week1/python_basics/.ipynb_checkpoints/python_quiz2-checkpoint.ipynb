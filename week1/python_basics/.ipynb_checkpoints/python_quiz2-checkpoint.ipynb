{
 "cells": [
  {
   "cell_type": "markdown",
   "metadata": {},
   "source": [
    "# Python Quiz 2, for fun !"
   ]
  },
  {
   "cell_type": "markdown",
   "metadata": {},
   "source": [
    "## Write down (and execute) brief python statements(or functions) to do following:\n",
    "\n"
   ]
  },
  {
   "cell_type": "markdown",
   "metadata": {},
   "source": [
    "Write a for loop to print out the days of the week that start with 'T' or 'S' from list given below. \n",
    "``` \n",
    "     days = ['Monday', 'Tuesday', 'Wednesday', 'Thursday', 'Friday', 'Saturday', 'Sunday']\n",
    "``` "
   ]
  },
  {
   "cell_type": "code",
   "execution_count": null,
   "metadata": {},
   "outputs": [],
   "source": []
  },
  {
   "cell_type": "markdown",
   "metadata": {},
   "source": [
    "Create an array called \"n_array\" of 20 numbers all equal to 2.0 .\n",
    "  >  Hint: Use np.ones (look it up on the internet or with help(np.ones))\n",
    "  \n",
    "  >  Do not forget to import numpy"
   ]
  },
  {
   "cell_type": "code",
   "execution_count": null,
   "metadata": {},
   "outputs": [],
   "source": []
  },
  {
   "cell_type": "markdown",
   "metadata": {},
   "source": [
    "Write out result of following python statements:\n",
    "\n",
    "```\n",
    "       f = lambda x : x**2 + 2\n",
    "       result = [ f(x) for x in range(5)]\n",
    "       print(result)\n",
    "```    "
   ]
  },
  {
   "cell_type": "code",
   "execution_count": null,
   "metadata": {},
   "outputs": [],
   "source": [
    "\n"
   ]
  },
  {
   "cell_type": "markdown",
   "metadata": {},
   "source": [
    "Create an array \"x\" of 100 points equally spaced between -5 and 5. \n",
    "\n",
    "Hint: Use numpy linspace "
   ]
  },
  {
   "cell_type": "code",
   "execution_count": null,
   "metadata": {},
   "outputs": [],
   "source": []
  },
  {
   "cell_type": "markdown",
   "metadata": {},
   "source": [
    "Create a function called \"minimum' which returns the minimum of two numbers ( a and b). \n",
    "     Do not use min function."
   ]
  },
  {
   "cell_type": "code",
   "execution_count": null,
   "metadata": {},
   "outputs": [],
   "source": []
  },
  {
   "cell_type": "markdown",
   "metadata": {},
   "source": [
    "Create a function called 'list_min' which returns the minimum value in a list of numbers (of any size). \n",
    "     Do not use min function."
   ]
  },
  {
   "cell_type": "code",
   "execution_count": null,
   "metadata": {},
   "outputs": [],
   "source": [
    "\n"
   ]
  },
  {
   "cell_type": "markdown",
   "metadata": {},
   "source": [
    " Write a function called last_element. This function takes one parameter (a list)\n",
    " and returns the last value in the list. It should return None if the list is empty.\n",
    " \n",
    " Example Output:\n",
    " ```\n",
    " > last_element([1,2,3]) : 3\n",
    " > last_element([])  : None \n",
    " ```"
   ]
  },
  {
   "cell_type": "code",
   "execution_count": null,
   "metadata": {},
   "outputs": [],
   "source": []
  },
  {
   "cell_type": "markdown",
   "metadata": {},
   "source": [
    "Write a function called number_compare. This function takes in two parameters (both numbers).\n",
    "\n",
    "> If the first parameter is greater than the second, this function returns \"First is Greater\".\n",
    "\n",
    "> If the second parameter is greater than the first, this function returns \"Second is Greater\"\n",
    "\n",
    "> Else the function returns \"Numbers are Equal\".  \n",
    "\n",
    "Example output:\n",
    "```\n",
    " number_compare(1,1) :  'Numbers are equal'\n",
    " number_compare(1,0) :  'First is greater'\n",
    " number_compare(2,4) :  'Second is greater'  \n",
    "``` "
   ]
  },
  {
   "cell_type": "code",
   "execution_count": null,
   "metadata": {},
   "outputs": [],
   "source": []
  }
 ],
 "metadata": {
  "kernelspec": {
   "display_name": "Python 3",
   "language": "python",
   "name": "python3"
  },
  "language_info": {
   "codemirror_mode": {
    "name": "ipython",
    "version": 3
   },
   "file_extension": ".py",
   "mimetype": "text/x-python",
   "name": "python",
   "nbconvert_exporter": "python",
   "pygments_lexer": "ipython3",
   "version": "3.8.5"
  },
  "toc": {
   "base_numbering": 1,
   "nav_menu": {},
   "number_sections": true,
   "sideBar": true,
   "skip_h1_title": false,
   "title_cell": "Table of Contents",
   "title_sidebar": "Contents",
   "toc_cell": false,
   "toc_position": {},
   "toc_section_display": true,
   "toc_window_display": false
  }
 },
 "nbformat": 4,
 "nbformat_minor": 4
}
