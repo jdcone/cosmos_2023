{
 "cells": [
  {
   "cell_type": "markdown",
   "metadata": {},
   "source": [
    "# Python types:  Strings, Integers , Floats, and Booleans\n",
    "\n",
    "\n",
    "Here we will review the basic data \"types\" used in Python : strings, integers, floats, and booleans\n",
    "\n",
    "We will also review how to create and use variables\n",
    "\n",
    "\n"
   ]
  },
  {
   "cell_type": "markdown",
   "metadata": {},
   "source": [
    "## Python strings - sequence of characters between quote marks"
   ]
  },
  {
   "cell_type": "code",
   "execution_count": null,
   "metadata": {},
   "outputs": [],
   "source": [
    "# Examples of strings\n",
    "\n",
    "'This is a string'\n",
    "\n",
    "# This is not a string\n",
    "\n",
    "#  \"This is not a string'\n",
    "\n"
   ]
  },
  {
   "cell_type": "markdown",
   "metadata": {},
   "source": [
    "## What can we do with strings ?"
   ]
  },
  {
   "cell_type": "code",
   "execution_count": null,
   "metadata": {},
   "outputs": [],
   "source": [
    "# print a string\n",
    "print('My name is Kevin')\n",
    "\n",
    "# Assign string to a variable\n",
    "\n",
    "first_name = 'Jennifer'\n",
    "last_name  = 'Lopez'\n",
    "#print(first_name,last_name)\n",
    "\n",
    "# Add strings together (concatenate)\n",
    "\n",
    "name = first_name + last_name\n",
    "\n",
    "# print(name)\n",
    "\n",
    "\n"
   ]
  },
  {
   "cell_type": "markdown",
   "metadata": {},
   "source": [
    "###  Important comments for java, C++ people :\n",
    "\n",
    "\n",
    "     1. No semicolons appear at the ends on a line \n",
    "     \n",
    "     2. Python Variables are **not** declared !!\n",
    "\n",
    "\n",
    "For those coming from another language (java, C++), variables are not \"declared\" as one type: variable type can change!  \n",
    "\n",
    "\n",
    "The type of a variable is determined by the last object it was bound to. More on this later.\n",
    "\n"
   ]
  },
  {
   "cell_type": "code",
   "execution_count": null,
   "metadata": {},
   "outputs": [],
   "source": [
    "# Print out name in message\n",
    "\n",
    "first_name = 'Jennifer'\n",
    "last_name  = 'Lopez'\n",
    "message = 'My name is ' + first_name +' ' + last_name\n",
    "#print(message)\n",
    "\n"
   ]
  },
  {
   "cell_type": "markdown",
   "metadata": {},
   "source": [
    "## Exercise with strings:\n",
    "\n",
    "In cell below create and print a message with your first and last name"
   ]
  },
  {
   "cell_type": "code",
   "execution_count": null,
   "metadata": {},
   "outputs": [],
   "source": [
    "\n",
    "\n",
    "\n",
    "\n",
    "\n",
    "\n"
   ]
  },
  {
   "cell_type": "markdown",
   "metadata": {},
   "source": [
    "## Slicing and indexing with strings "
   ]
  },
  {
   "cell_type": "code",
   "execution_count": null,
   "metadata": {},
   "outputs": [],
   "source": [
    "message = 'I love python'\n",
    "\n",
    "message[0] \n",
    "\n",
    "#message[0:6] \n"
   ]
  },
  {
   "cell_type": "code",
   "execution_count": null,
   "metadata": {},
   "outputs": [],
   "source": [
    "\n",
    "language = 'java'\n",
    "\n",
    "new_msg = message[0:6] + ' ' + language\n",
    "#print(new_msg)\n"
   ]
  },
  {
   "cell_type": "markdown",
   "metadata": {},
   "source": [
    "## f-string formatting: new with Python 3.6 "
   ]
  },
  {
   "cell_type": "code",
   "execution_count": null,
   "metadata": {},
   "outputs": [],
   "source": [
    "# Example of hwo include variables in a string using f-string formatting\n",
    "\n",
    "language = 'java'\n",
    "new_msg = f'I love {language}.'\n",
    "#print(new_msg)"
   ]
  },
  {
   "cell_type": "markdown",
   "metadata": {},
   "source": [
    "## String methods : built-in functions for handling strings"
   ]
  },
  {
   "cell_type": "code",
   "execution_count": null,
   "metadata": {},
   "outputs": [],
   "source": [
    "name = 'Dave'\n",
    "\n",
    "#type(name)\n"
   ]
  },
  {
   "cell_type": "markdown",
   "metadata": {},
   "source": [
    "### How to get a list of string methods"
   ]
  },
  {
   "cell_type": "code",
   "execution_count": null,
   "metadata": {},
   "outputs": [],
   "source": [
    "# Use the dir function (on any variable)\n",
    "\n",
    "#dir(name)"
   ]
  },
  {
   "cell_type": "markdown",
   "metadata": {},
   "source": [
    "### How to call/ use methods"
   ]
  },
  {
   "cell_type": "code",
   "execution_count": null,
   "metadata": {},
   "outputs": [],
   "source": [
    "### Examples of methods: Not parentheses at end of method !!\n",
    "\n",
    "message = 'I love python but it can be confusing'\n",
    "\n",
    "#print(message.upper())     \n",
    "#print(message.lower())\n",
    "#print(message.count('o'))\n",
    "#print(message.replace('love', 'like'))"
   ]
  },
  {
   "cell_type": "code",
   "execution_count": null,
   "metadata": {},
   "outputs": [],
   "source": [
    "# Note: methods here do not chane original message\n",
    "message = 'I love python'\n",
    "\n",
    "#print(message)\n",
    "\n",
    "#message = message.replace('love', 'like')  # To change original\n",
    "\n",
    "#print(message)"
   ]
  },
  {
   "cell_type": "code",
   "execution_count": null,
   "metadata": {},
   "outputs": [],
   "source": [
    "# DNA string example from later in course\n",
    "\n",
    "DNA_string = 'atatgggcatatgcatt'\n",
    "DNA = DNA_string.upper()\n",
    "\n",
    "#print(DNA)\n",
    "\n",
    "#DNA.find('GGG')\n"
   ]
  },
  {
   "cell_type": "code",
   "execution_count": null,
   "metadata": {},
   "outputs": [],
   "source": [
    "DNA_string = 'atatgggcatatgcatt'\n",
    "DNA = DNA_string.upper()\n",
    "\n",
    "RNA = DNA.replace('T','U')  # In RNA, we replace Thymine (T) with Uracil (U)\n",
    "\n",
    "#print(RNA)"
   ]
  },
  {
   "cell_type": "markdown",
   "metadata": {},
   "source": [
    "###  How to get help with a method"
   ]
  },
  {
   "cell_type": "code",
   "execution_count": null,
   "metadata": {},
   "outputs": [],
   "source": [
    "\n",
    "#help(DNA.replace)"
   ]
  },
  {
   "cell_type": "markdown",
   "metadata": {},
   "source": [
    "## Other important string methods: in, strip, join, split"
   ]
  },
  {
   "cell_type": "code",
   "execution_count": null,
   "metadata": {},
   "outputs": [],
   "source": [
    "# Example of 'in' keyword (word with special meaning in python)\n",
    "# Note: You should NEVER use a python key word as a variable name !!!!\n",
    "\n",
    "vowels = 'aeiou'\n",
    "char = 'i'\n",
    "#char in vowels\n",
    "\n",
    "# Other "
   ]
  },
  {
   "cell_type": "code",
   "execution_count": null,
   "metadata": {},
   "outputs": [],
   "source": [
    "# Example of strip (lstrip/rstrip) \n",
    "\n",
    "title = '   Python programming    '\n",
    "\n",
    "#print(title.strip())\n",
    "#print(title.lstrip())"
   ]
  },
  {
   "cell_type": "code",
   "execution_count": null,
   "metadata": {},
   "outputs": [],
   "source": [
    "# Example of split method- putting words in string into a list \n",
    "\n",
    "title = 'I can be very productive with python'\n",
    "word_list = title.split(' ')\n",
    "\n",
    "#print(word_list)\n"
   ]
  },
  {
   "cell_type": "code",
   "execution_count": null,
   "metadata": {},
   "outputs": [],
   "source": [
    "# Example of joining words in a list to make a string\n",
    "\n",
    "words = ['this', 'is', 'a', 'list', 'of', \"strings\"]         # This a 'list' of words\n",
    "\n",
    "sentence = ' '.join(words)         \n",
    "#print(sentence)\n"
   ]
  },
  {
   "cell_type": "markdown",
   "metadata": {},
   "source": [
    "## Exercise with strings #2\n",
    " \n",
    " In the cell below, perform the following methods on the string given and print at each step\n",
    " \n",
    "     1. Strip the white space from string1 and store in a variable called 'strip_result'\n",
    "     \n",
    "     2. Split strip_result into words in a list and store list in variable called 'w_list'\n",
    "     \n",
    "     3. Join words in w_list back together into new variable called 'new_sentence'.\n",
    "     \n",
    "     4  Print the 4th through 7th characters of new_sentence.  \n"
   ]
  },
  {
   "cell_type": "code",
   "execution_count": null,
   "metadata": {},
   "outputs": [],
   "source": [
    "# Exercise with strings\n",
    "string1 = '  In the cell below, perform the following methods on the string given and print at each step    '\n",
    "\n",
    "\n",
    "\n",
    "\n",
    "\n",
    "\n"
   ]
  },
  {
   "cell_type": "markdown",
   "metadata": {},
   "source": [
    "# Integers and Floats\n",
    "\n",
    "Integers :  Whole numbers  ( 1, 24, 5, 289678 )\n",
    "\n",
    "Floats   :  Numbers with decimal place ( 1.0, 24.56, .0098, 3e10)"
   ]
  },
  {
   "cell_type": "code",
   "execution_count": null,
   "metadata": {},
   "outputs": [],
   "source": [
    "x = 3\n",
    "\n",
    "#print(x)\n",
    "#print(type(x))"
   ]
  },
  {
   "cell_type": "code",
   "execution_count": null,
   "metadata": {},
   "outputs": [],
   "source": [
    "y = 3.0\n",
    "z = 'I am happy'\n",
    "\n",
    "#print(y,z)\n",
    "#type(y)"
   ]
  },
  {
   "cell_type": "code",
   "execution_count": null,
   "metadata": {},
   "outputs": [],
   "source": [
    "# What happens when we add different types\n",
    "\n",
    "#print(x + y)   #  Integer + float\n",
    "#print(x + z)   #  Integer + string "
   ]
  },
  {
   "cell_type": "code",
   "execution_count": null,
   "metadata": {},
   "outputs": [],
   "source": [
    "# Arithmetic with integers and floats\n",
    "# Add :  2 + 3\n",
    "# Subtract  3 - 2\n",
    "# Multiply:  2 * 3\n",
    "# Divide:   2/3\n",
    "# Exponent : 3 ** 2\n",
    "# Modulus :  3 % 2\n",
    "\n",
    "\n",
    "\n"
   ]
  },
  {
   "cell_type": "code",
   "execution_count": null,
   "metadata": {},
   "outputs": [],
   "source": [
    "# Absolute value and round : abs and ronund are keywords!!!\n",
    "\n",
    "x = -3.14159\n",
    "\n",
    "#print(abs(x))    \n",
    "#print( round(x,2)) "
   ]
  },
  {
   "cell_type": "code",
   "execution_count": null,
   "metadata": {},
   "outputs": [],
   "source": [
    "#  Scientific notation:\n",
    "\n",
    "y = 3.4e10   #  = 3.4 * 10**10\n",
    "#print(y)"
   ]
  },
  {
   "cell_type": "markdown",
   "metadata": {},
   "source": [
    "## Exercise with integers and floats\n",
    "\n",
    "Print the type and value **squared** for each of the variables listed in cell below:\n"
   ]
  },
  {
   "cell_type": "code",
   "execution_count": null,
   "metadata": {},
   "outputs": [],
   "source": [
    "# Variables for exercise\n",
    "x = 45\n",
    "y = 3.14159\n",
    "z = 1 + 3j\n",
    "\n",
    "\n",
    "\n"
   ]
  },
  {
   "cell_type": "markdown",
   "metadata": {},
   "source": [
    "# Booleans \n",
    "\n",
    "\n",
    "Booleans are variables that take on only two Values  **True**  or **False**\n",
    "\n",
    "Expression and comparisons can yield boolean values\n",
    "\n",
    "**True**  or **False**​ are also keywords in python"
   ]
  },
  {
   "cell_type": "code",
   "execution_count": null,
   "metadata": {},
   "outputs": [],
   "source": [
    "# Example of a boolean:\n",
    "\n",
    "condition = True\n",
    "\n",
    "#type(condition))\n",
    "\n",
    "\n"
   ]
  },
  {
   "cell_type": "code",
   "execution_count": null,
   "metadata": {},
   "outputs": [],
   "source": [
    "# Expression as a boolean\n",
    "\n",
    "x = 5\n",
    "y = 6\n",
    "\n",
    "#x == y\n",
    "\n",
    "cond = x==y\n",
    "\n",
    "#print( cond)\n",
    "\n"
   ]
  },
  {
   "cell_type": "markdown",
   "metadata": {},
   "source": [
    "## Comparison operations are used to control 'if statements' and 'for-loops'\n",
    "\n",
    "\n",
    "We will review the format for if statements and 'for loops' shortly\n",
    "\n",
    "Below are some of the comparison operators used for booleans \n",
    "\n",
    "  - Equal:             ==\n",
    "  \n",
    "  - Not equal:         !=\n",
    "  \n",
    "  - Greater than:       >\n",
    "  \n",
    "  - Less than:          <\n",
    "  \n",
    "  - Not equal:         !=\n",
    "  \n",
    "  - Greater or equal:   >=\n",
    "  \n",
    "  - Less or equal:      >=\n",
    "  \n",
    "  - Object identity:     is\n",
    "  \n",
    "Booleans can be combined with **and** and **or** operators  \n",
    "  \n"
   ]
  },
  {
   "cell_type": "markdown",
   "metadata": {},
   "source": [
    "### Examples of boolean comparisons"
   ]
  },
  {
   "cell_type": "code",
   "execution_count": null,
   "metadata": {},
   "outputs": [],
   "source": [
    "x = 3\n",
    "y = 4\n",
    "z = 5\n",
    "a = 'abc'\n",
    "b = 'xyz'\n",
    "\n",
    "#x<=y\n"
   ]
  },
  {
   "cell_type": "code",
   "execution_count": null,
   "metadata": {},
   "outputs": [],
   "source": [
    "# Example of more complicated booleans\n",
    "\n",
    "x = 5\n",
    "y = 6\n",
    "z = 15\n",
    "\n",
    "#print( (x < y) and (y < z) ) \n",
    "#print( (x < y) and (z < y) ) \n",
    "#print( (x >= y) or (z != 15))"
   ]
  },
  {
   "cell_type": "code",
   "execution_count": null,
   "metadata": {},
   "outputs": [],
   "source": [
    "# Example of object identity\n",
    "\n",
    "x = 3\n",
    "y = 3\n",
    "\n",
    "#y == x\n",
    "#y is x"
   ]
  },
  {
   "cell_type": "markdown",
   "metadata": {},
   "source": [
    "## Exercise with booleans:\n",
    "\n",
    "Predict what the boolean value (**True** or **False**) will be for each expression in cell below.\n",
    "\n",
    "Then print result to see if you were right!!\n"
   ]
  },
  {
   "cell_type": "code",
   "execution_count": null,
   "metadata": {},
   "outputs": [],
   "source": [
    "x = 5\n",
    "y = 7\n",
    "z = 2\n",
    "# Expressions to evaluate:\n",
    "\n",
    "#(x > y) and (z <= x)\n",
    "#abs(x-y) == z\n",
    "#((x < z) or (y>x)) and (x+z != y)\n",
    "\n",
    "\n"
   ]
  }
 ],
 "metadata": {
  "kernelspec": {
   "display_name": "Python 3",
   "language": "python",
   "name": "python3"
  },
  "language_info": {
   "codemirror_mode": {
    "name": "ipython",
    "version": 3
   },
   "file_extension": ".py",
   "mimetype": "text/x-python",
   "name": "python",
   "nbconvert_exporter": "python",
   "pygments_lexer": "ipython3",
   "version": "3.8.5"
  },
  "toc": {
   "base_numbering": 1,
   "nav_menu": {},
   "number_sections": true,
   "sideBar": true,
   "skip_h1_title": false,
   "title_cell": "Table of Contents",
   "title_sidebar": "Contents",
   "toc_cell": false,
   "toc_position": {},
   "toc_section_display": true,
   "toc_window_display": false
  }
 },
 "nbformat": 4,
 "nbformat_minor": 2
}
