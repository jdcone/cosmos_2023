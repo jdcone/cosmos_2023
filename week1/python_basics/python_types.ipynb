{
 "cells": [
  {
   "cell_type": "markdown",
   "metadata": {},
   "source": [
    "# Python types:  Strings, Integers , Floats, and Booleans\n",
    "\n",
    "\n",
    "Here we will review the basic data \"types\" used in Python : strings, integers, floats, and booleans\n",
    "\n",
    "We will also review how to create and use variables\n",
    "\n",
    "\n"
   ]
  },
  {
   "cell_type": "markdown",
   "metadata": {},
   "source": [
    "## Python strings - sequence of characters between quote marks"
   ]
  },
  {
   "cell_type": "code",
   "execution_count": 4,
   "metadata": {},
   "outputs": [
    {
     "data": {
      "text/plain": [
       "'This is a string'"
      ]
     },
     "execution_count": 4,
     "metadata": {},
     "output_type": "execute_result"
    }
   ],
   "source": [
    "# Examples of strings\n",
    "\n",
    "'This is a string'\n",
    "\n",
    "# This is not a string\n",
    "\n",
    "# \"This is not a string'\n",
    "\n"
   ]
  },
  {
   "cell_type": "markdown",
   "metadata": {},
   "source": [
    "## What can we do with strings ?"
   ]
  },
  {
   "cell_type": "code",
   "execution_count": null,
   "metadata": {},
   "outputs": [],
   "source": [
    "# print a string\n",
    "print('My name is Kevin')\n",
    "\n",
    "# Assign string to a variable\n",
    "\n",
    "first_name = 'Jennifer'\n",
    "last_name  = 'Lopez'\n",
    "#print(first_name,last_name)\n",
    "\n",
    "# Add strings together (concatenate)\n",
    "\n",
    "name = first_name + last_name\n",
    "\n",
    "# print(name)\n",
    "\n",
    "\n"
   ]
  },
  {
   "cell_type": "markdown",
   "metadata": {},
   "source": [
    "###  Important comments for java, C++ people :\n",
    "\n",
    "\n",
    "     1. No semicolons appear at the ends on a line \n",
    "     \n",
    "     2. Python Variables are **not** declared !!\n",
    "\n",
    "\n",
    "For those coming from another language (java, C++), variables are not \"declared\" as one type: variable type can change!  \n",
    "\n",
    "\n",
    "The type of a variable is determined by the last object it was bound to. More on this later.\n",
    "\n"
   ]
  },
  {
   "cell_type": "code",
   "execution_count": null,
   "metadata": {},
   "outputs": [],
   "source": [
    "# Print out name in message\n",
    "\n",
    "first_name = 'Jennifer'\n",
    "last_name  = 'Lopez'\n",
    "message = 'My name is ' + first_name +' ' + last_name\n",
    "#print(message)\n",
    "\n"
   ]
  },
  {
   "cell_type": "markdown",
   "metadata": {},
   "source": [
    "## Exercise with strings:\n",
    "\n",
    "In cell below create and print a message with your first and last name"
   ]
  },
  {
   "cell_type": "code",
   "execution_count": 5,
   "metadata": {},
   "outputs": [
    {
     "name": "stdout",
     "output_type": "stream",
     "text": [
      "Hello, my name is Dave Cone\n"
     ]
    }
   ],
   "source": [
    "first = 'Dave'\n",
    "last = 'Cone'\n",
    "print(\"Hello, \" + 'my name is '+ first +' ' + last )\n",
    "\n",
    "\n",
    "\n",
    "\n"
   ]
  },
  {
   "cell_type": "markdown",
   "metadata": {},
   "source": [
    "## Slicing and indexing with strings "
   ]
  },
  {
   "cell_type": "code",
   "execution_count": 7,
   "metadata": {},
   "outputs": [
    {
     "data": {
      "text/plain": [
       "'I love'"
      ]
     },
     "execution_count": 7,
     "metadata": {},
     "output_type": "execute_result"
    }
   ],
   "source": [
    "message = 'I love python'\n",
    "\n",
    "message[0] \n",
    "\n",
    "message[0:6] \n"
   ]
  },
  {
   "cell_type": "code",
   "execution_count": 9,
   "metadata": {},
   "outputs": [
    {
     "name": "stdout",
     "output_type": "stream",
     "text": [
      "I love java\n"
     ]
    }
   ],
   "source": [
    "\n",
    "language = 'java'\n",
    "\n",
    "new_msg = message[0:6] + ' ' + language\n",
    "print(new_msg)\n"
   ]
  },
  {
   "cell_type": "markdown",
   "metadata": {},
   "source": [
    "## f-string formatting: new with Python 3.6 "
   ]
  },
  {
   "cell_type": "code",
   "execution_count": 10,
   "metadata": {},
   "outputs": [
    {
     "name": "stdout",
     "output_type": "stream",
     "text": [
      "I love java.\n"
     ]
    }
   ],
   "source": [
    "# Example of hwo include variables in a string using f-string formatting\n",
    "\n",
    "language = 'java'\n",
    "new_msg = f'I love {language}.'\n",
    "print(new_msg)"
   ]
  },
  {
   "cell_type": "markdown",
   "metadata": {},
   "source": [
    "## String methods : built-in functions for handling strings"
   ]
  },
  {
   "cell_type": "code",
   "execution_count": 11,
   "metadata": {},
   "outputs": [
    {
     "data": {
      "text/plain": [
       "str"
      ]
     },
     "execution_count": 11,
     "metadata": {},
     "output_type": "execute_result"
    }
   ],
   "source": [
    "name = 'Dave'\n",
    "\n",
    "type(name)\n"
   ]
  },
  {
   "cell_type": "markdown",
   "metadata": {},
   "source": [
    "### How to get a list of string methods"
   ]
  },
  {
   "cell_type": "code",
   "execution_count": 12,
   "metadata": {},
   "outputs": [
    {
     "data": {
      "text/plain": [
       "['__add__',\n",
       " '__class__',\n",
       " '__contains__',\n",
       " '__delattr__',\n",
       " '__dir__',\n",
       " '__doc__',\n",
       " '__eq__',\n",
       " '__format__',\n",
       " '__ge__',\n",
       " '__getattribute__',\n",
       " '__getitem__',\n",
       " '__getnewargs__',\n",
       " '__gt__',\n",
       " '__hash__',\n",
       " '__init__',\n",
       " '__init_subclass__',\n",
       " '__iter__',\n",
       " '__le__',\n",
       " '__len__',\n",
       " '__lt__',\n",
       " '__mod__',\n",
       " '__mul__',\n",
       " '__ne__',\n",
       " '__new__',\n",
       " '__reduce__',\n",
       " '__reduce_ex__',\n",
       " '__repr__',\n",
       " '__rmod__',\n",
       " '__rmul__',\n",
       " '__setattr__',\n",
       " '__sizeof__',\n",
       " '__str__',\n",
       " '__subclasshook__',\n",
       " 'capitalize',\n",
       " 'casefold',\n",
       " 'center',\n",
       " 'count',\n",
       " 'encode',\n",
       " 'endswith',\n",
       " 'expandtabs',\n",
       " 'find',\n",
       " 'format',\n",
       " 'format_map',\n",
       " 'index',\n",
       " 'isalnum',\n",
       " 'isalpha',\n",
       " 'isascii',\n",
       " 'isdecimal',\n",
       " 'isdigit',\n",
       " 'isidentifier',\n",
       " 'islower',\n",
       " 'isnumeric',\n",
       " 'isprintable',\n",
       " 'isspace',\n",
       " 'istitle',\n",
       " 'isupper',\n",
       " 'join',\n",
       " 'ljust',\n",
       " 'lower',\n",
       " 'lstrip',\n",
       " 'maketrans',\n",
       " 'partition',\n",
       " 'replace',\n",
       " 'rfind',\n",
       " 'rindex',\n",
       " 'rjust',\n",
       " 'rpartition',\n",
       " 'rsplit',\n",
       " 'rstrip',\n",
       " 'split',\n",
       " 'splitlines',\n",
       " 'startswith',\n",
       " 'strip',\n",
       " 'swapcase',\n",
       " 'title',\n",
       " 'translate',\n",
       " 'upper',\n",
       " 'zfill']"
      ]
     },
     "execution_count": 12,
     "metadata": {},
     "output_type": "execute_result"
    }
   ],
   "source": [
    "# Use the dir function (on any variable)\n",
    "\n",
    "dir(name)"
   ]
  },
  {
   "cell_type": "markdown",
   "metadata": {},
   "source": [
    "### How to call/ use methods"
   ]
  },
  {
   "cell_type": "code",
   "execution_count": 13,
   "metadata": {},
   "outputs": [
    {
     "name": "stdout",
     "output_type": "stream",
     "text": [
      "I LOVE PYTHON BUT IT CAN BE CONFUSING\n",
      "i love python but it can be confusing\n",
      "3\n",
      "I like python but it can be confusing\n"
     ]
    }
   ],
   "source": [
    "### Examples of methods: Not parentheses at end of method !!\n",
    "\n",
    "message = 'I love python but it can be confusing'\n",
    "\n",
    "print(message.upper())     \n",
    "print(message.lower())\n",
    "print(message.count('o'))\n",
    "print(message.replace('love', 'like'))"
   ]
  },
  {
   "cell_type": "code",
   "execution_count": 14,
   "metadata": {},
   "outputs": [
    {
     "name": "stdout",
     "output_type": "stream",
     "text": [
      "I love python\n",
      "I like python\n"
     ]
    }
   ],
   "source": [
    "# Note: methods here do not chane original message\n",
    "message = 'I love python'\n",
    "\n",
    "print(message)\n",
    "\n",
    "message = message.replace('love', 'like')  # To change original\n",
    "\n",
    "print(message)"
   ]
  },
  {
   "cell_type": "code",
   "execution_count": 16,
   "metadata": {},
   "outputs": [
    {
     "name": "stdout",
     "output_type": "stream",
     "text": [
      "ATATGGGCATATGCATT\n"
     ]
    },
    {
     "data": {
      "text/plain": [
       "4"
      ]
     },
     "execution_count": 16,
     "metadata": {},
     "output_type": "execute_result"
    }
   ],
   "source": [
    "# DNA string example from later in course\n",
    "\n",
    "DNA_string = 'atatgggcatatgcatt'\n",
    "DNA = DNA_string.upper()\n",
    "\n",
    "print(DNA)\n",
    "\n",
    "DNA.find('GGG')\n"
   ]
  },
  {
   "cell_type": "code",
   "execution_count": 17,
   "metadata": {},
   "outputs": [
    {
     "name": "stdout",
     "output_type": "stream",
     "text": [
      "AUAUGGGCAUAUGCAUU\n"
     ]
    }
   ],
   "source": [
    "DNA_string = 'atatgggcatatgcatt'\n",
    "DNA = DNA_string.upper()\n",
    "\n",
    "RNA = DNA.replace('T','U')  # In RNA, we replace Thymine (T) with Uracil (U)\n",
    "\n",
    "print(RNA)"
   ]
  },
  {
   "cell_type": "markdown",
   "metadata": {},
   "source": [
    "###  How to get help with a method"
   ]
  },
  {
   "cell_type": "code",
   "execution_count": 20,
   "metadata": {},
   "outputs": [
    {
     "name": "stdout",
     "output_type": "stream",
     "text": [
      "Help on built-in function replace:\n",
      "\n",
      "replace(old, new, count=-1, /) method of builtins.str instance\n",
      "    Return a copy with all occurrences of substring old replaced by new.\n",
      "    \n",
      "      count\n",
      "        Maximum number of occurrences to replace.\n",
      "        -1 (the default value) means replace all occurrences.\n",
      "    \n",
      "    If the optional argument count is given, only the first count occurrences are\n",
      "    replaced.\n",
      "\n"
     ]
    }
   ],
   "source": [
    "help(DNA.replace)"
   ]
  },
  {
   "cell_type": "markdown",
   "metadata": {},
   "source": [
    "## Other important string methods: in, strip, join, split"
   ]
  },
  {
   "cell_type": "code",
   "execution_count": 21,
   "metadata": {},
   "outputs": [
    {
     "data": {
      "text/plain": [
       "True"
      ]
     },
     "execution_count": 21,
     "metadata": {},
     "output_type": "execute_result"
    }
   ],
   "source": [
    "# Example of 'in' keyword (word with special meaning in python)\n",
    "# Note: You should NEVER use a python key word as a variable name !!!!\n",
    "\n",
    "vowels = 'aeiou'\n",
    "char = 'i'\n",
    "char in vowels\n",
    "\n",
    "# Other "
   ]
  },
  {
   "cell_type": "code",
   "execution_count": 27,
   "metadata": {},
   "outputs": [
    {
     "name": "stdout",
     "output_type": "stream",
     "text": [
      "25\n",
      "18\n",
      "22\n"
     ]
    }
   ],
   "source": [
    "# Example of strip (lstrip/rstrip) \n",
    "\n",
    "title = '   Python programming    '\n",
    "print(len(title))\n",
    "print(len(title.strip()))\n",
    "print(len(title.lstrip()))"
   ]
  },
  {
   "cell_type": "code",
   "execution_count": 28,
   "metadata": {},
   "outputs": [
    {
     "name": "stdout",
     "output_type": "stream",
     "text": [
      "['I', 'can', 'be', 'very', 'productive', 'with', 'python']\n"
     ]
    }
   ],
   "source": [
    "# Example of split method- putting words in string into a list \n",
    "\n",
    "title = 'I can be very productive with python'\n",
    "word_list = title.split(' ')\n",
    "\n",
    "print(word_list)\n"
   ]
  },
  {
   "cell_type": "code",
   "execution_count": 29,
   "metadata": {},
   "outputs": [
    {
     "name": "stdout",
     "output_type": "stream",
     "text": [
      "this is a list of strings\n"
     ]
    }
   ],
   "source": [
    "# Example of joining words in a list to make a string\n",
    "\n",
    "words = ['this', 'is', 'a', 'list', 'of', \"strings\"]         # This a 'list' of words\n",
    "\n",
    "sentence = ' '.join(words)         \n",
    "print(sentence)\n"
   ]
  },
  {
   "cell_type": "markdown",
   "metadata": {},
   "source": [
    "## Exercise with strings #2\n",
    " \n",
    " In the cell below, perform the following methods on the string given and print at each step\n",
    " \n",
    "     1. Strip the white space from string1 and store in a variable called 'strip_result'\n",
    "     \n",
    "     2. Split strip_result into words in a list and store list in variable called 'w_list'\n",
    "     \n",
    "     3. Join words in w_list back together into new variable called 'new_sentence'.\n",
    "     \n",
    "     4  Print the 4th through 7th characters of new_sentence.  \n"
   ]
  },
  {
   "cell_type": "code",
   "execution_count": 35,
   "metadata": {},
   "outputs": [
    {
     "name": "stdout",
     "output_type": "stream",
     "text": [
      "In the cell below, perform the following methods on the string given and print at each step\n",
      "the c\n"
     ]
    }
   ],
   "source": [
    "# Exercise with strings\n",
    "string1 = '  In the cell below, perform the following methods on the string given and print at each step    '\n",
    "\n",
    "strip_result = string1.strip()\n",
    "w_list = strip_result.split()\n",
    "new_sentence = ' '.join(w_list)\n",
    "print(new_sentence)\n",
    "print(new_sentence[3:8])\n",
    "\n",
    "\n"
   ]
  },
  {
   "cell_type": "markdown",
   "metadata": {},
   "source": [
    "# Integers and Floats\n",
    "\n",
    "Integers :  Whole numbers  ( 1, 24, 5, 289678 )\n",
    "\n",
    "Floats   :  Numbers with decimal place ( 1.0, 24.56, .0098, 3e10)"
   ]
  },
  {
   "cell_type": "code",
   "execution_count": 36,
   "metadata": {},
   "outputs": [
    {
     "name": "stdout",
     "output_type": "stream",
     "text": [
      "3\n",
      "<class 'int'>\n"
     ]
    }
   ],
   "source": [
    "x = 3\n",
    "\n",
    "print(x)\n",
    "print(type(x))"
   ]
  },
  {
   "cell_type": "code",
   "execution_count": 37,
   "metadata": {},
   "outputs": [
    {
     "name": "stdout",
     "output_type": "stream",
     "text": [
      "3.0 I am happy\n"
     ]
    },
    {
     "data": {
      "text/plain": [
       "float"
      ]
     },
     "execution_count": 37,
     "metadata": {},
     "output_type": "execute_result"
    }
   ],
   "source": [
    "y = 3.0\n",
    "z = 'I am happy'\n",
    "\n",
    "print(y,z)\n",
    "type(y)"
   ]
  },
  {
   "cell_type": "code",
   "execution_count": null,
   "metadata": {},
   "outputs": [],
   "source": [
    "# What happens when we add different types\n",
    "\n",
    "#print(x + y)   #  Integer + float\n",
    "#print(x + z)   #  Integer + string "
   ]
  },
  {
   "cell_type": "code",
   "execution_count": 39,
   "metadata": {},
   "outputs": [
    {
     "ename": "SyntaxError",
     "evalue": "invalid syntax (<ipython-input-39-d8a2bfdf7fad>, line 3)",
     "output_type": "error",
     "traceback": [
      "\u001b[0;36m  File \u001b[0;32m\"<ipython-input-39-d8a2bfdf7fad>\"\u001b[0;36m, line \u001b[0;32m3\u001b[0m\n\u001b[0;31m    Subtract  3 - 2\u001b[0m\n\u001b[0m              ^\u001b[0m\n\u001b[0;31mSyntaxError\u001b[0m\u001b[0;31m:\u001b[0m invalid syntax\n"
     ]
    }
   ],
   "source": [
    "# Arithmetic with integers and floats\n",
    "#Add :  2 + 3\n",
    "#Subtract  3 - 2\n",
    "Multiply:  2 * 3\n",
    "Divide:   2/3\n",
    "Exponent : 3 ** 2\n",
    "Modulus :  3 % 2\n",
    "\n",
    "\n",
    "\n"
   ]
  },
  {
   "cell_type": "code",
   "execution_count": 40,
   "metadata": {},
   "outputs": [
    {
     "name": "stdout",
     "output_type": "stream",
     "text": [
      "3.14159\n",
      "-3.14\n"
     ]
    }
   ],
   "source": [
    "# Absolute value and round : abs and ronund are keywords!!!\n",
    "\n",
    "x = -3.14159\n",
    "\n",
    "print(abs(x))    \n",
    "print( round(x,2)) "
   ]
  },
  {
   "cell_type": "code",
   "execution_count": 41,
   "metadata": {},
   "outputs": [
    {
     "name": "stdout",
     "output_type": "stream",
     "text": [
      "34000000000.0\n"
     ]
    }
   ],
   "source": [
    "#  Scientific notation:\n",
    "\n",
    "y = 3.4e10   #  = 3.4 * 10**10\n",
    "print(y)"
   ]
  },
  {
   "cell_type": "markdown",
   "metadata": {},
   "source": [
    "## Exercise with integers and floats\n",
    "\n",
    "Print the type and value **squared** for each of the variables listed in cell below:\n"
   ]
  },
  {
   "cell_type": "code",
   "execution_count": 42,
   "metadata": {},
   "outputs": [
    {
     "data": {
      "text/plain": [
       "complex"
      ]
     },
     "execution_count": 42,
     "metadata": {},
     "output_type": "execute_result"
    }
   ],
   "source": [
    "# Variables for exercise\n",
    "x = 45\n",
    "y = 3.14159\n",
    "z = 1 + 3j\n",
    "type(z)\n",
    "\n",
    "\n"
   ]
  },
  {
   "cell_type": "markdown",
   "metadata": {},
   "source": [
    "# Booleans \n",
    "\n",
    "\n",
    "Booleans are variables that take on only two Values  **True**  or **False**\n",
    "\n",
    "Expression and comparisons can yield boolean values\n",
    "\n",
    "**True**  or **False**​ are also keywords in python"
   ]
  },
  {
   "cell_type": "code",
   "execution_count": 44,
   "metadata": {},
   "outputs": [
    {
     "data": {
      "text/plain": [
       "bool"
      ]
     },
     "execution_count": 44,
     "metadata": {},
     "output_type": "execute_result"
    }
   ],
   "source": [
    "# Example of a boolean:\n",
    "\n",
    "condition = True\n",
    "\n",
    "type(condition)\n",
    "\n",
    "\n"
   ]
  },
  {
   "cell_type": "code",
   "execution_count": 45,
   "metadata": {},
   "outputs": [
    {
     "name": "stdout",
     "output_type": "stream",
     "text": [
      "False\n"
     ]
    }
   ],
   "source": [
    "# Expression as a boolean\n",
    "\n",
    "x = 5\n",
    "y = 6\n",
    "\n",
    "#x == y\n",
    "\n",
    "cond = x==y\n",
    "\n",
    "print( cond)\n",
    "\n"
   ]
  },
  {
   "cell_type": "markdown",
   "metadata": {},
   "source": [
    "## Comparison operations are used to control 'if statements' and 'for-loops'\n",
    "\n",
    "\n",
    "We will review the format for if statements and 'for loops' shortly\n",
    "\n",
    "Below are some of the comparison operators used for booleans \n",
    "\n",
    "  - Equal:             ==\n",
    "  \n",
    "  - Not equal:         !=\n",
    "  \n",
    "  - Greater than:       >\n",
    "  \n",
    "  - Less than:          <\n",
    "  \n",
    "  - Not equal:         !=\n",
    "  \n",
    "  - Greater or equal:   >=\n",
    "  \n",
    "  - Less or equal:      >=\n",
    "  \n",
    "  - Object identity:     is\n",
    "  \n",
    "Booleans can be combined with **and** and **or** operators  \n",
    "  \n"
   ]
  },
  {
   "cell_type": "markdown",
   "metadata": {},
   "source": [
    "### Examples of boolean comparisons"
   ]
  },
  {
   "cell_type": "code",
   "execution_count": 46,
   "metadata": {},
   "outputs": [
    {
     "data": {
      "text/plain": [
       "True"
      ]
     },
     "execution_count": 46,
     "metadata": {},
     "output_type": "execute_result"
    }
   ],
   "source": [
    "x = 3\n",
    "y = 4\n",
    "z = 5\n",
    "a = 'abc'\n",
    "b = 'xyz'\n",
    "\n",
    "x<=y\n"
   ]
  },
  {
   "cell_type": "code",
   "execution_count": null,
   "metadata": {},
   "outputs": [],
   "source": [
    "# Example of more complicated booleans\n",
    "\n",
    "x = 5\n",
    "y = 6\n",
    "z = 15\n",
    "\n",
    "#print( (x < y) and (y < z) ) \n",
    "#print( (x < y) and (z < y) ) \n",
    "#print( (x >= y) or (z != 15))"
   ]
  },
  {
   "cell_type": "code",
   "execution_count": 47,
   "metadata": {},
   "outputs": [
    {
     "data": {
      "text/plain": [
       "True"
      ]
     },
     "execution_count": 47,
     "metadata": {},
     "output_type": "execute_result"
    }
   ],
   "source": [
    "# Example of object identity\n",
    "\n",
    "x = 3\n",
    "y = 3\n",
    "\n",
    "y == x\n",
    "y is x"
   ]
  },
  {
   "cell_type": "markdown",
   "metadata": {},
   "source": [
    "## Exercise with booleans:\n",
    "\n",
    "Predict what the boolean value (**True** or **False**) will be for each expression in cell below.\n",
    "\n",
    "Then print result to see if you were right!!\n"
   ]
  },
  {
   "cell_type": "code",
   "execution_count": null,
   "metadata": {},
   "outputs": [],
   "source": [
    "x = 5\n",
    "y = 7\n",
    "z = 2\n",
    "# Expressions to evaluate:\n",
    "\n",
    "#(x > y) and (z <= x)\n",
    "#abs(x-y) == z\n",
    "#((x < z) or (y>x)) and (x+z != y)\n",
    "\n",
    "\n"
   ]
  }
 ],
 "metadata": {
  "kernelspec": {
   "display_name": "Python 3",
   "language": "python",
   "name": "python3"
  },
  "language_info": {
   "codemirror_mode": {
    "name": "ipython",
    "version": 3
   },
   "file_extension": ".py",
   "mimetype": "text/x-python",
   "name": "python",
   "nbconvert_exporter": "python",
   "pygments_lexer": "ipython3",
   "version": "3.8.5"
  },
  "toc": {
   "base_numbering": 1,
   "nav_menu": {},
   "number_sections": true,
   "sideBar": true,
   "skip_h1_title": false,
   "title_cell": "Table of Contents",
   "title_sidebar": "Contents",
   "toc_cell": false,
   "toc_position": {},
   "toc_section_display": true,
   "toc_window_display": false
  }
 },
 "nbformat": 4,
 "nbformat_minor": 2
}
