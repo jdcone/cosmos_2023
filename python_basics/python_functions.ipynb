{
 "cells": [
  {
   "cell_type": "markdown",
   "metadata": {},
   "source": [
    "# Python functions"
   ]
  },
  {
   "cell_type": "markdown",
   "metadata": {},
   "source": [
    "## What are Functions?\n",
    "\n",
    "Functions are a convenient way to divide your code into useful blocks, allowing you to order the code, make it more readable, reuse it and save time. Also functions are a key way to define interfaces so programmers can share their code. \n",
    "\n",
    "**Syntax for use:** \n",
    "\n",
    "     def function_name(parameters):\n",
    "         \"\"\"docstring\"\"\"\n",
    "        statement(s)\n",
    "        return (expression_list)\n"
   ]
  },
  {
   "cell_type": "code",
   "execution_count": null,
   "metadata": {},
   "outputs": [],
   "source": [
    "# Example : simple function to square a number\n",
    "\n",
    "def square(x):\n",
    "    \"\"\" Squares a number \"\"\"           # Note: not required if function is obvious\n",
    "    square = x * x\n",
    "    return(square)\n",
    "\n",
    "x2 = square(5)\n",
    " \n",
    "#print(x2)    \n",
    "    "
   ]
  },
  {
   "cell_type": "code",
   "execution_count": null,
   "metadata": {},
   "outputs": [],
   "source": [
    "# Example with two input parameters and default value for one of them\n",
    "\n",
    "def multiply(x, y=0):\n",
    "    print(\"value of x=\",x)\n",
    "    print(\"value of y=\",y)\n",
    "    \n",
    "    return x*y\n",
    "\n",
    "\n",
    "prod = multiply(2,30)\n",
    "#print(f'Product = {prod}') "
   ]
  },
  {
   "cell_type": "markdown",
   "metadata": {},
   "source": [
    "## Exercise with functions\n",
    "\n",
    "In cell below:\n",
    "\n",
    "Write a simple function called 'simple' that takes two arguments 'name' and 'age' and then prints them out.\n",
    "\n"
   ]
  },
  {
   "cell_type": "code",
   "execution_count": null,
   "metadata": {},
   "outputs": [],
   "source": [
    "# Exercise with functions\n",
    "\n",
    "#name = <your_name>\n",
    "#age = <your_age>\n",
    "#Define simple below\n",
    "\n",
    "\n",
    "\n",
    "\n",
    "#simple(name,age)  # Prints name and age\n",
    "\n",
    "\n"
   ]
  },
  {
   "cell_type": "markdown",
   "metadata": {},
   "source": [
    "### lambda function : Another way to define very simple one-line functions\n",
    "\n",
    "What is a lambda function ???\n",
    "\n",
    "In a nutshell, lambda functions are simple, one-line expressions that can take the place of functions. They are often easier to write and understand in the program.\n"
   ]
  },
  {
   "cell_type": "code",
   "execution_count": null,
   "metadata": {},
   "outputs": [],
   "source": [
    "# Simple example of lambda function to replace square:\n",
    "\n",
    "square = lambda x: x**2\n",
    "result = square(5)\n",
    "#print(result)\n"
   ]
  },
  {
   "cell_type": "code",
   "execution_count": null,
   "metadata": {},
   "outputs": [],
   "source": [
    "#  But we can use more complicated lambda expressions\n",
    "\n",
    "# Examples using two variables:\n",
    "\n",
    "f1 = lambda x,y: x**3 + y**2 +2\n",
    "#print(f1(2,3))   # 2*3 + 3**2 +2 \n",
    "\n",
    "f2 = lambda x,y,z: abs(x-y) + z\n",
    "#print(f2(2,4,5))"
   ]
  },
  {
   "cell_type": "markdown",
   "metadata": {},
   "source": [
    "## Exercise with lambda functions\n",
    "\n",
    "In cell below:\n",
    "\n",
    "Write a lambda function that takes two inputs (x,y) and returns the sum of x squared and y squared.\n",
    "\n",
    "Print out examples to show your lambda function works "
   ]
  },
  {
   "cell_type": "code",
   "execution_count": null,
   "metadata": {},
   "outputs": [],
   "source": [
    "# Exercise with lambda functions\n",
    "\n",
    "\n",
    "\n",
    "\n"
   ]
  },
  {
   "cell_type": "markdown",
   "metadata": {},
   "source": [
    "### More complicated example of functions borrowed from Corey Shafer video on functions\n",
    "\n",
    "Excellent example of the use of functions calling functions, if statements, and conditionals  \n",
    "\n",
    "Let's step through this example line-by-line\n",
    "\n"
   ]
  },
  {
   "cell_type": "code",
   "execution_count": null,
   "metadata": {},
   "outputs": [],
   "source": [
    "# Create A list of days in each month of the year. \n",
    "# We want January (month 1) to have index '1', so we have 13 entries in list\n",
    "month_days = [0, 31, 28, 31, 30, 31, 30, 31, 31, 30, 31, 30, 31]\n",
    "#len(month_days)\n",
    "#month_days[7]"
   ]
  },
  {
   "cell_type": "code",
   "execution_count": null,
   "metadata": {},
   "outputs": [],
   "source": [
    "#  This works for all normal months except February (leap years!!!)\n",
    "#  You can thank Julius Caesar for this headache  !! \n",
    "\n",
    "\n",
    "def is_leap_year(year):\n",
    "    \"\"\"Returns True if a leap year, otherwise returns False \"\"\"\n",
    "    \n",
    "    return year % 4 == 0 and ( year % 100 != 0 or year % 400 == 0)  #This expression returns a boolean !\n",
    "\n",
    "\n",
    "def days_in_month(year, month):\n",
    "    \"\"\"Returns number of days in month for given year\"\"\"\n",
    "    \n",
    "    if month < 1 or month > 12:\n",
    "        return 'Invalid month, try again'\n",
    "    \n",
    "    if month == 2 and is_leap_year(year):  # february of leap year has 29 days\n",
    "        return 29\n",
    "    else:\n",
    "        return month_days[month]\n",
    " \n",
    "#print( days_in_month(2022,2))\n",
    "    \n",
    "        "
   ]
  }
 ],
 "metadata": {
  "kernelspec": {
   "display_name": "Python 3 (ipykernel)",
   "language": "python",
   "name": "python3"
  },
  "language_info": {
   "codemirror_mode": {
    "name": "ipython",
    "version": 3
   },
   "file_extension": ".py",
   "mimetype": "text/x-python",
   "name": "python",
   "nbconvert_exporter": "python",
   "pygments_lexer": "ipython3",
   "version": "3.9.12"
  },
  "toc": {
   "base_numbering": 1,
   "nav_menu": {},
   "number_sections": true,
   "sideBar": true,
   "skip_h1_title": false,
   "title_cell": "Table of Contents",
   "title_sidebar": "Contents",
   "toc_cell": false,
   "toc_position": {},
   "toc_section_display": true,
   "toc_window_display": false
  }
 },
 "nbformat": 4,
 "nbformat_minor": 2
}
