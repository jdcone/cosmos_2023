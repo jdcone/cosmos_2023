{
 "cells": [
  {
   "cell_type": "markdown",
   "metadata": {},
   "source": [
    "# Python libraries : numpy, random,  matplolib\n",
    "\n",
    "Here is a definition of a python library: \n",
    "\n",
    "A library is a collection of programs with specific functionality not included in base python. You can access a library's programs by **importing** the library and calling the library's methods.\n",
    "\n",
    "In other words, libraries have pre-written code that will be very useful to us ,but that code is not part of core python. Python makes it very easy to bring this code into our program and to use it. \n",
    ".\n",
    "\n",
    "\n",
    "For our purposes, the most important python libraries we will use include:\n",
    "\n",
    "   1. **numpy**  library for numerical (scientific) processing (and **arrays** !)\n",
    "   \n",
    "   2. **random** library for generating and using random numbers\n",
    "   \n",
    "   3. **matplotlib** library for plotting and graphing python data\n",
    "\n"
   ]
  },
  {
   "cell_type": "markdown",
   "metadata": {},
   "source": [
    "## Importing libraries ( and modules)\n",
    "\n",
    "We use **import** to bring the library we want to use into the program.\n",
    "\n",
    "First we will import the library for numerical processing, called **numpy**  \n"
   ]
  },
  {
   "cell_type": "markdown",
   "metadata": {},
   "source": [
    "### How to import numpy ; import statement is included once at top of program"
   ]
  },
  {
   "cell_type": "code",
   "execution_count": null,
   "metadata": {},
   "outputs": [],
   "source": [
    "\n",
    "import numpy as np  # We will reference programs in numpy with 'np'\n",
    "\n",
    "# That's it!! "
   ]
  },
  {
   "cell_type": "markdown",
   "metadata": {},
   "source": [
    "### What's in numpy ???\n",
    "\n",
    "Lots of stuff. let's see \n",
    "\n",
    "**dir** is a python command that lists all of a library's methods (programs)"
   ]
  },
  {
   "cell_type": "code",
   "execution_count": null,
   "metadata": {},
   "outputs": [],
   "source": [
    "#dir(np)    "
   ]
  },
  {
   "cell_type": "markdown",
   "metadata": {},
   "source": [
    "#### Numpy  includes lots of **math functions**: Trigonometric, Exponents and logarithms,  Hyperbolic, and many others \n",
    "\n",
    "Note how we put '**np.**' before each reference to a numpy method, as in **np.sin(np.pi)** means take **sine($\\pi$)**\n",
    "\n"
   ]
  },
  {
   "cell_type": "code",
   "execution_count": null,
   "metadata": {},
   "outputs": [],
   "source": [
    "#  Numpy math examples\n",
    "\n",
    "#print (np.pi)\n",
    "#print(np.sqrt(2))\n",
    "#print(np.cos(np.pi), np.sin(np.pi/4))\n",
    "#print(np.log(10))"
   ]
  },
  {
   "cell_type": "code",
   "execution_count": null,
   "metadata": {},
   "outputs": [],
   "source": [
    "# Of course, we can nest and string together these functions in expressions\n",
    "\n",
    "x = np.cos(np.pi) * np.sin(2*np.pi) + np.log(10)\n",
    "#print (f' x = {x: .3f} ' )"
   ]
  },
  {
   "cell_type": "markdown",
   "metadata": {},
   "source": [
    "## Exercise using numpy math functions:\n",
    "\n",
    "In cell below, write a numpy math expression and **print** results for the following formulas:\n",
    "\n",
    "  1. sine($\\pi//2$) + cosine($\\pi/3$)\n",
    "       \n",
    "  2. square root of tangent( $\\pi/4$)\n",
    "\n"
   ]
  },
  {
   "cell_type": "code",
   "execution_count": null,
   "metadata": {},
   "outputs": [],
   "source": [
    "# Complete exercise below\n",
    "\n",
    "\n",
    "\n",
    "\n"
   ]
  },
  {
   "cell_type": "markdown",
   "metadata": {},
   "source": [
    "### But, most critical for us  are numpy **arrays** ....."
   ]
  },
  {
   "cell_type": "markdown",
   "metadata": {},
   "source": [
    "## Numpy arrays"
   ]
  },
  {
   "cell_type": "markdown",
   "metadata": {},
   "source": [
    "What if we want a \"list\" where all the elements are the same type (like in C language)? In python, this is called an array. Arrays use a special module called numpy ( for numerical python). Arrays are like vectors/matrices. \n",
    "\n",
    "They are **fixed in length** and  **have only one variable type** (usually float). As a result arrays are optimized for speed and work much faster than lists in python.\n",
    "\n",
    "We will use arrays as often as we use lists in this course."
   ]
  },
  {
   "cell_type": "markdown",
   "metadata": {},
   "source": [
    "### Import numpy module: special package for scientific work"
   ]
  },
  {
   "cell_type": "code",
   "execution_count": null,
   "metadata": {},
   "outputs": [],
   "source": [
    "# Import numpy module (done once at top of program)\n",
    "\n",
    "import numpy as np\n"
   ]
  },
  {
   "cell_type": "markdown",
   "metadata": {},
   "source": [
    "### Creating arrays of values\n",
    "\n",
    "Let's set up an 'array' of all zeros"
   ]
  },
  {
   "cell_type": "code",
   "execution_count": null,
   "metadata": {},
   "outputs": [],
   "source": [
    "\n",
    "array1 = np.zeros(10,dtype = float)\n",
    "#print (array1, len(array1))"
   ]
  },
  {
   "cell_type": "code",
   "execution_count": null,
   "metadata": {},
   "outputs": [],
   "source": [
    "# Create array of 'ones' of type integer\n",
    "\n",
    "array2 = np.ones(10,dtype=int)\n",
    "#print (array2)"
   ]
  },
  {
   "cell_type": "code",
   "execution_count": null,
   "metadata": {},
   "outputs": [],
   "source": [
    "# Convert an existing list to array ( and array to list)\n",
    "r = [1.2, 3.4, -1.5]   # This is a list\n",
    "#print(r)\n",
    "\n",
    "r_array = np.array(r)\n",
    "#print (r_array)"
   ]
  },
  {
   "cell_type": "markdown",
   "metadata": {},
   "source": [
    "### Creating 2D arrays (matices)"
   ]
  },
  {
   "cell_type": "code",
   "execution_count": null,
   "metadata": {},
   "outputs": [],
   "source": [
    "# Create 2D array (matrix)\n",
    "\n",
    "array3 = np.zeros((2,3))  # Notice (2,3) inside means: 2 x 3 matrix (2 rows,3 cols)\n",
    "print (array3)"
   ]
  },
  {
   "cell_type": "markdown",
   "metadata": {},
   "source": [
    "### Array operations"
   ]
  },
  {
   "cell_type": "code",
   "execution_count": null,
   "metadata": {},
   "outputs": [],
   "source": [
    "# Operations on arrays\n",
    "\n",
    "array4 = np.array(range(10))\n",
    "print(array4)\n",
    "#print (\"Mean value in array =  \" , np.sum(array4)/ len(array4))\n",
    "#print (\"Mean value in array =  \" , array4.mean())"
   ]
  },
  {
   "cell_type": "markdown",
   "metadata": {},
   "source": [
    "Note that an array's length (number of elements in the array) is **fixed** and cannot be changed directly. So what do we do if we have to add more values/elements to an existing array?\n",
    "\n",
    "**We use a list!!**:\n",
    "\n",
    "We first convert the array to a **list**, add the elements to the list (which can be expanded!) with 'append', then we convert the list back to an array. "
   ]
  },
  {
   "cell_type": "code",
   "execution_count": null,
   "metadata": {},
   "outputs": [],
   "source": [
    "# Example of converting array to a list : To add onto the array \n",
    "\n",
    "array4 = np.array (range(10))\n",
    "list4 = list(array4)\n",
    "list4.append(25)\n",
    "array4 = np.array(list4)\n",
    "\n",
    "#print (list4)\n",
    "#print(array4)"
   ]
  },
  {
   "cell_type": "markdown",
   "metadata": {},
   "source": [
    "### Math operations on arrays :  vectorized for speed !!\n",
    "\n",
    "We can perform a specific operation on all of the values in an array **at once**!\n",
    "\n",
    "See below how we can square all values in an array with one statement (no for loop required!)"
   ]
  },
  {
   "cell_type": "code",
   "execution_count": null,
   "metadata": {},
   "outputs": [],
   "source": [
    "# How to square all values in an array? Easy, just square the array \n",
    "\n",
    "x = np.array([0,1,2, 3,4,5])\n",
    "\n",
    "#print(x)      # This is an array\n",
    "\n",
    "# Now , square x\n",
    "x_squared  = x**2  # This is an array of squared values \n",
    "\n",
    "#print(x_squared)"
   ]
  },
  {
   "cell_type": "markdown",
   "metadata": {},
   "source": [
    "#### We can also do several operations on arrays on the same line !!"
   ]
  },
  {
   "cell_type": "code",
   "execution_count": null,
   "metadata": {},
   "outputs": [],
   "source": [
    "# We can do several operations on arrays in one line !!\n",
    "# Suppose we want the square root of the of all the squared array values\n",
    "\n",
    "array5 = np.array([0,1,2, 3,4,5])\n",
    "#print(array5)\n",
    "\n",
    "answer = np.sqrt ( sum(array5**2))\n",
    "#print (answer)"
   ]
  },
  {
   "cell_type": "markdown",
   "metadata": {},
   "source": [
    "# Exercise using Arrays\n",
    "\n",
    "In the cell below, perform these tasks with arrays:\n",
    "\n",
    "\n",
    "  1. Create an array of floats of the first twenty integers (1-20) and assign to variable 'array1'\n",
    "  \n",
    "  \n",
    "  2. Square all values in 'array1' and assign resulting array to variable 'array2'\n"
   ]
  },
  {
   "cell_type": "code",
   "execution_count": null,
   "metadata": {},
   "outputs": [],
   "source": [
    "#  Cell for completing Exercise with arrays\n",
    "\n",
    "\n",
    "\n",
    "\n",
    "\n"
   ]
  },
  {
   "cell_type": "markdown",
   "metadata": {},
   "source": [
    "## Random library\n",
    "\n",
    "The **random** library in python is used to generate pseudo-random numbers for various probabilistic distributions. We will this library's methods extensively when we study random walks and simulate the random movement of molecules inside a cell.\n",
    "\n",
    "As with any external library, we must first **import** it with the import statement:\n",
    "\n"
   ]
  },
  {
   "cell_type": "code",
   "execution_count": null,
   "metadata": {},
   "outputs": [],
   "source": [
    "import random as random\n",
    "#help(random)\n",
    "#dir(random)\n"
   ]
  },
  {
   "cell_type": "markdown",
   "metadata": {},
   "source": [
    "### Random number routines we will use:\n",
    "\n",
    "   1 random.**choice(list)** returns a random item from a list, tuple, or string.\n",
    "  \n",
    "   2 random.**random()** returns a random number (float) between 0 and 1.\n",
    "   \n",
    "   3 random.**uniform(start,end)** returns a random value (float) between start and end values\n",
    "\n",
    "   3 random.**randint(start, stop)** returns an integer in the range of start to stop (inclusive)  \n",
    "    "
   ]
  },
  {
   "cell_type": "code",
   "execution_count": null,
   "metadata": {},
   "outputs": [],
   "source": [
    "# Simple example of random choice\n",
    "\n",
    "die_rolls = [1, 2, 3, 4, 5, 6 ]\n",
    "#print(random.choice(die_rolls))\n",
    "\n",
    "# We could also use randint\n",
    "#print(random.randint(1,6))"
   ]
  },
  {
   "cell_type": "markdown",
   "metadata": {},
   "source": [
    "### Random choice with lists and strings"
   ]
  },
  {
   "cell_type": "code",
   "execution_count": null,
   "metadata": {},
   "outputs": [],
   "source": [
    "\n",
    "DNA_bases = ['A','T','G','C']    # Simple list of DNA base pairs\n",
    "#print(random.choice(DNA_bases))  # Choose randomly one letter from list\n",
    "\n",
    "vowels = 'aeiou'  # Choose one letter from string randomly\n",
    "#print(random.choice(vowels))\n"
   ]
  },
  {
   "cell_type": "code",
   "execution_count": null,
   "metadata": {},
   "outputs": [],
   "source": [
    "# More complicated use of random choice: generating random DNA sequences\n",
    "\n",
    "random_DNA_str = [ random.choice(DNA_bases)  for i in range(10) ]  # list comprehension\n",
    "\n",
    "#print(''.join(random_DNA_str))   # Use string function 'join' to create long string"
   ]
  },
  {
   "cell_type": "markdown",
   "metadata": {},
   "source": [
    "### Uniform distributions: picking numbers randomly on a line segment\n",
    "\n",
    "  1. random.random()  between 0 and 1\n",
    "  2. random.uniform(start,end) "
   ]
  },
  {
   "cell_type": "code",
   "execution_count": null,
   "metadata": {},
   "outputs": [],
   "source": [
    "# Example with random.random()\n",
    "\n",
    "x = random.random()\n",
    "#print(x)   # Assumes values between 0 and 1\n",
    "\n",
    "# Selects an angle at random between 0 and 2*pi radians(0-360 degrees)\n",
    "\n",
    "angle = random.uniform(0, 2*np.pi)\n",
    "#print(angle)\n"
   ]
  },
  {
   "cell_type": "code",
   "execution_count": null,
   "metadata": {},
   "outputs": [],
   "source": [
    "#  Creating array of random numbers between 0 and 1\n",
    "\n",
    "rand_array = np.array( [ random.random() for i in range(6)])\n",
    "#print (rand_array)"
   ]
  },
  {
   "cell_type": "markdown",
   "metadata": {},
   "source": [
    "## Simple plotting with matplotlib library\n",
    "\n",
    "What is matplotlib ???\n",
    "\n",
    "Matplotlib is a comprehensive library for creating static, animated, and interactive visualizations in Python. \n",
    "\n",
    "\n",
    "Below , we will build a simple graph (plot) with matplotlib.\n"
   ]
  },
  {
   "cell_type": "markdown",
   "metadata": {},
   "source": [
    "### First step is to import the libraries we need: numpy and matplotlib\n",
    "\n",
    "\n",
    "Note how we do this: we will use the same format in all our work\n"
   ]
  },
  {
   "cell_type": "code",
   "execution_count": null,
   "metadata": {},
   "outputs": [],
   "source": [
    "# This is a special 'magic' command for jupyter notebook to show plot in text\n",
    "%matplotlib inline  \n",
    "\n",
    "import numpy as np\n",
    "import matplotlib.pyplot as plt"
   ]
  },
  {
   "cell_type": "markdown",
   "metadata": {},
   "source": [
    "### Next,  we create points along the x-axis and y-axis that we want to plot. \n",
    "\n",
    "We do this with numpy arrays and a special numpy function"
   ]
  },
  {
   "cell_type": "code",
   "execution_count": null,
   "metadata": {},
   "outputs": [],
   "source": [
    "x = np.linspace(0, 2*np.pi,100) # Chops up a line segment into 100 equal parts\n",
    "#print (x)\n",
    "\n",
    "y = np.sin(x)  # Creates an array of y values by taking sine of all x-values\n",
    "# print (y)"
   ]
  },
  {
   "cell_type": "markdown",
   "metadata": {},
   "source": [
    "### Finally, we use matplotlib methods ( using 'plt.' )  to plot x vs y"
   ]
  },
  {
   "cell_type": "code",
   "execution_count": null,
   "metadata": {},
   "outputs": [],
   "source": [
    "\n",
    "#plt.plot(x,y)\n",
    "#plt.show()\n"
   ]
  },
  {
   "cell_type": "markdown",
   "metadata": {},
   "source": [
    "### We can make this plot a lot prettier and clearer if we add some things:\n",
    "\n",
    "    1. Title for the plot\n",
    "\n",
    "    2. Labels for the x and y axes\n",
    "\n",
    "    3. Color for the plot line\n",
    "    \n",
    "    \n",
    "Let's do it!!    "
   ]
  },
  {
   "cell_type": "code",
   "execution_count": null,
   "metadata": {},
   "outputs": [],
   "source": [
    "# Make plot fancier with title, labels\n",
    "\n",
    "plt.plot(x,y, 'r')\n",
    "plt.title('Plot of x vs sin(x)')\n",
    "plt.xlabel('x')\n",
    "plt.ylabel('sin(x)')\n",
    "plt.show()"
   ]
  },
  {
   "cell_type": "markdown",
   "metadata": {},
   "source": [
    "## Exercise using matplotlib\n",
    "\n",
    "\n",
    "In the cell below, use copy and paste from the example above to: \n",
    "\n",
    "\n",
    "Plot a graph of cosine(x) vs x (rather than sin(x) vs x) \n",
    "\n",
    "Note: you should **not** repeat the import statements - that only needs to be done once!\n",
    "\n",
    "Remember to change the plot title and ylabel!  "
   ]
  },
  {
   "cell_type": "code",
   "execution_count": null,
   "metadata": {},
   "outputs": [],
   "source": [
    "#  Use this cell for creating new plot for exercise\n",
    "\n",
    "\n",
    "\n",
    "\n",
    "\n",
    "\n",
    "\n"
   ]
  }
 ],
 "metadata": {
  "celltoolbar": "Raw Cell Format",
  "kernelspec": {
   "display_name": "Python 3 (ipykernel)",
   "language": "python",
   "name": "python3"
  },
  "language_info": {
   "codemirror_mode": {
    "name": "ipython",
    "version": 3
   },
   "file_extension": ".py",
   "mimetype": "text/x-python",
   "name": "python",
   "nbconvert_exporter": "python",
   "pygments_lexer": "ipython3",
   "version": "3.9.12"
  },
  "toc": {
   "base_numbering": 1,
   "nav_menu": {},
   "number_sections": true,
   "sideBar": true,
   "skip_h1_title": false,
   "title_cell": "Table of Contents",
   "title_sidebar": "Contents",
   "toc_cell": false,
   "toc_position": {},
   "toc_section_display": true,
   "toc_window_display": false
  }
 },
 "nbformat": 4,
 "nbformat_minor": 1
}
