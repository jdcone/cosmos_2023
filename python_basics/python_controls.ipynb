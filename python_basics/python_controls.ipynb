{
 "cells": [
  {
   "cell_type": "markdown",
   "metadata": {},
   "source": [
    "# Python Controls: Conditionals(ifs) and Loops (for,while)\n",
    "\n",
    "In a programming language, we need a way to control the flow or logic in the program. In python, this control is made possible with the use of conditional statements ( **if-then-else**) or loop control statements (**for loops** or **while** loops). Here we will review both of these types of statements.\n",
    "\n",
    "\n",
    "\n",
    "\n",
    "\n"
   ]
  },
  {
   "cell_type": "markdown",
   "metadata": {},
   "source": [
    "## Brief review of Booleans:\n",
    "\n",
    "Booleans are data types that are either **True** or **False**"
   ]
  },
  {
   "cell_type": "code",
   "execution_count": null,
   "metadata": {},
   "outputs": [],
   "source": [
    "# Examples of booleans\n",
    "\n",
    "x = 5\n",
    "y = 6\n",
    "\n",
    "#print(x < y) \n",
    "#print(x > y)\n",
    "#print( x == y)"
   ]
  },
  {
   "cell_type": "markdown",
   "metadata": {},
   "source": [
    "Recall some of the comparison operators used for booleans:\n",
    "    \n",
    "  - Equal:             ==\n",
    "  \n",
    "  - Not equal:         !=\n",
    "  \n",
    "  - Greater than:       >\n",
    "  \n",
    "  - Less than:          <\n",
    "  \n",
    "  - Not equal:         !=\n",
    "  \n",
    "  - Greater or equal:   >=\n",
    "  \n",
    "  - Less or equal:      >=\n",
    "  \n",
    "  - Object identity:     is\n",
    " \n",
    " Booleans can be combined with **and** and **or** operators"
   ]
  },
  {
   "cell_type": "code",
   "execution_count": null,
   "metadata": {},
   "outputs": [],
   "source": [
    "# Example of more complicated booleans\n",
    "\n",
    "x = 5\n",
    "y = 6\n",
    "z = 15\n",
    "\n",
    "#print( (x < y) and (y < z) ) \n",
    "#print( (x < y) and (z < y) ) \n",
    "#print( (x >= y) or (z != 15))"
   ]
  },
  {
   "cell_type": "code",
   "execution_count": null,
   "metadata": {},
   "outputs": [],
   "source": [
    "# Really complicated boolean (not recommended): \n",
    "\n",
    "#print ( ((x == 3) or (x < z)) and (( y < z) or (z == 15)) )"
   ]
  },
  {
   "cell_type": "markdown",
   "metadata": {},
   "source": [
    "##    If- then-else statements"
   ]
  },
  {
   "cell_type": "markdown",
   "metadata": {},
   "source": [
    "Format of the if statement:\n",
    "    \n",
    "            if condition:\n",
    "               block_of_code\n",
    "               \n",
    "Notice that the block of code is **indented**  !!   Code indented to same level is considered to be part of same block ( and is executed together). This is very different that other languages (like C/C++, Java, and a whole host of other languages) that use curly braces to group 'blocks' of code.\n",
    "\n",
    "**Indentation** is one way that python ensures readability of programs.\n",
    "\n",
    "            "
   ]
  },
  {
   "cell_type": "code",
   "execution_count": null,
   "metadata": {},
   "outputs": [],
   "source": [
    "# Simple if statement : 'pass' means do nothing, and keep going\n",
    "\n",
    "flag = True       # boolean control variable\n",
    "if flag == True:\n",
    "    pass\n",
    "    #print('Welcome to Cosmos')\n",
    "    #print('Python is fun to learn')\n"
   ]
  },
  {
   "cell_type": "code",
   "execution_count": null,
   "metadata": {},
   "outputs": [],
   "source": [
    "# Simple if-else statement\n",
    "\n",
    "flag = True       # boolean control variable\n",
    "if flag == True:\n",
    "    print('Welcome to Cosmos')\n",
    "    print('Python is fun to learn')\n",
    "else:    \n",
    "    print('Sorry, you are in the wrong class')\n"
   ]
  },
  {
   "cell_type": "markdown",
   "metadata": {},
   "source": [
    "###  if - else if construct"
   ]
  },
  {
   "cell_type": "markdown",
   "metadata": {},
   "source": [
    "Python if statements also support multiple 'else' choices "
   ]
  },
  {
   "cell_type": "code",
   "execution_count": null,
   "metadata": {},
   "outputs": [],
   "source": [
    "# Example of elif statement. Note placment of colons(:) and indentation\n",
    "\n",
    "gpa = 3.8   # control variable\n",
    "\n",
    "if gpa > 3.5:\n",
    "    print('Congratulations, your application is accepted!')\n",
    "elif 3.0 <= gpa < 3.5 :\n",
    "    print('You are on a waitlist, check back with us later')\n",
    "elif 2.0 <= gpa < 3.0 :\n",
    "    print('Sorry we cannot accept you at this time, try again later')\n",
    "else:\n",
    "    print('Don\"t bother')\n"
   ]
  },
  {
   "cell_type": "code",
   "execution_count": null,
   "metadata": {},
   "outputs": [],
   "source": []
  },
  {
   "cell_type": "markdown",
   "metadata": {},
   "source": [
    "## Exercise with if-else statement\n",
    "\n",
    "In the cell below, write an if-else statement in python which does the following:\n",
    "\n",
    "Based on the value of boolean variable 'is_happy':\n",
    "\n",
    "     1. Print: 'Things are going great for me' if is_happy is True\n",
    "     \n",
    "     2. Print: 'Well, tomorrow will be better for me' if is_happy is False\n",
    "     \n",
    "     3. Try out both options to be sure your code works correctly\n",
    "     \n",
    "     "
   ]
  },
  {
   "cell_type": "code",
   "execution_count": null,
   "metadata": {},
   "outputs": [],
   "source": [
    "# Exercise with if-else\n",
    "is_happy = True\n",
    "\n",
    "\n",
    "\n",
    "\n",
    "\n"
   ]
  },
  {
   "cell_type": "markdown",
   "metadata": {},
   "source": [
    "##    LOOPS: for loops, while loops"
   ]
  },
  {
   "cell_type": "markdown",
   "metadata": {},
   "source": [
    "Loops are the control statements that allow us to repeat a sequence of steps over and over again. In this course we will use both the **for** loop and the **while** loop.\n"
   ]
  },
  {
   "cell_type": "code",
   "execution_count": null,
   "metadata": {},
   "outputs": [],
   "source": [
    "#  Here is an example of a simple for loop: \n",
    "\n",
    "primes = [2, 3, 5, 7, 11, 13]   # A list (or iterable object)\n",
    "\n",
    "for prime in primes:\n",
    "    print(f'{prime} is a prime number')"
   ]
  },
  {
   "cell_type": "markdown",
   "metadata": {},
   "source": [
    "### With for loops, we can also 'iterate' over a sequence of numbers using the \"range\" function. "
   ]
  },
  {
   "cell_type": "markdown",
   "metadata": {},
   "source": [
    "The range function returns an 'iterator' which allows you to loop (iterate) over a sequence of numbers.\n",
    "\n",
    "   + range(stop) takes one argument:  range(10)  - all integers 0 -9\n",
    "   \n",
    "   + range(start, stop) takes two arguments:  range(1,11) - all integer 1-10\n",
    "   \n",
    "   + range(start, stop, step) takes three arguments: range(1,11,2) - integers (1,3,5,7,9)\n",
    "\n",
    "Range function is very useful and should be memorized"
   ]
  },
  {
   "cell_type": "code",
   "execution_count": null,
   "metadata": {},
   "outputs": [],
   "source": [
    "# For loops, we can also 'iterate' over a sequence of numbers using the \"range\" function. \n",
    "\n",
    "for x in range(5):\n",
    "    print(x)\n",
    "\n",
    "# Prints out 3,4,5\n",
    "#for x in range(3, 6):\n",
    "    #print(x)"
   ]
  },
  {
   "cell_type": "markdown",
   "metadata": {},
   "source": [
    "Notice the difference in syntax for how we use range vs  a list in python. With a list we use:\n",
    "\n",
    "     'for *item* in *list* :\n",
    "          do *something*' \n",
    "          \n",
    "Many of you coming from java or C will want to always do a for-loop with range like below. This is considered **bad form** (un-pythonic) in python. It gives the same result (in this case) , but is 1) very inefficient and 2) harder to read.\n"
   ]
  },
  {
   "cell_type": "code",
   "execution_count": null,
   "metadata": {},
   "outputs": [],
   "source": [
    "# Bad form, translated from java, C\n",
    "\n",
    "primes = [2, 3, 5, 7, 11, 13]   # A list (or iterable object)\n",
    "\n",
    "for i in range(len(primes)):\n",
    "    prime = primes[i]\n",
    "    print(f'{prime} is a prime number')\n"
   ]
  },
  {
   "cell_type": "markdown",
   "metadata": {},
   "source": [
    "### Combining for loops and if statements"
   ]
  },
  {
   "cell_type": "code",
   "execution_count": null,
   "metadata": {},
   "outputs": [],
   "source": [
    "# Example of for loop and an if statement \n",
    "\n",
    "primes = [2, 3, 5, 7, 11, 13]   # A list (or iterable object)\n",
    "\n",
    "for num in range(10):\n",
    "    if num in primes:\n",
    "        print(f'{num} is a prime number')\n",
    "    else:\n",
    "        pass\n",
    "        #print(f'{num} is not a prime number')"
   ]
  },
  {
   "cell_type": "markdown",
   "metadata": {},
   "source": [
    "## Exercise with for-loops\n",
    "\n",
    "    In the cell below:\n",
    "    \n",
    "    Write a for loop to print out integers that are divisible by 7 in the first 100 integers \n",
    "    \n",
    "    "
   ]
  },
  {
   "cell_type": "code",
   "execution_count": null,
   "metadata": {},
   "outputs": [],
   "source": [
    "# Exercise with for-loops\n",
    "\n",
    "\n",
    "\n",
    "\n",
    "\n"
   ]
  },
  {
   "cell_type": "markdown",
   "metadata": {},
   "source": [
    "## while statements\n",
    "\n",
    "Sometimes , we don't want to loop over a list or range , but want to keep looping while (or until) a certain condition is satisfied. We use a **while** statement for these times:\n",
    "\n",
    "         while (condition is met):\n",
    "             do *something* "
   ]
  },
  {
   "cell_type": "code",
   "execution_count": null,
   "metadata": {},
   "outputs": [],
   "source": [
    "# Simple while statment: prints out 0,1,2,3,4\n",
    "\n",
    "count = 0\n",
    "while count < 5:\n",
    "    #print(count)\n",
    "    count += 1  # This is the same as count = count + 1\n",
    "    "
   ]
  },
  {
   "cell_type": "code",
   "execution_count": null,
   "metadata": {},
   "outputs": [],
   "source": [
    "# Another while example\n",
    "temperature = 130  \n",
    "while temperature > 112: # first while loop code\n",
    "    #print(f'Tea temperature is {temperature}, too hot to drink, adding ice' )\n",
    "    temperature = temperature - 5\n",
    "\n",
    "#print('The tea is now cool enough.')"
   ]
  },
  {
   "cell_type": "markdown",
   "metadata": {},
   "source": [
    "### \"break\" and \"continue\" statements\n",
    "\n",
    "**break** is used to exit a for loop or a while loop\n",
    "\n",
    "**continue** is used to skip the current block, and return to the \"for\" or \"while\" statement.\n",
    "\n",
    "A few examples:"
   ]
  },
  {
   "cell_type": "code",
   "execution_count": null,
   "metadata": {},
   "outputs": [],
   "source": [
    "#  Infinite loop- dangerous example !!\n",
    "count = 0\n",
    "while True:        # No condition exists to stop this loop \n",
    "    #print(count)\n",
    "    count += 1\n",
    "    if count >= 5:\n",
    "        break"
   ]
  },
  {
   "cell_type": "code",
   "execution_count": null,
   "metadata": {},
   "outputs": [],
   "source": [
    "# Prints out only odd numbers - 1,3,5,7,9\n",
    "for x in range(10):\n",
    "    # Check if x is even\n",
    "    if x % 2 == 0:\n",
    "        continue\n",
    "    #print(x)"
   ]
  },
  {
   "cell_type": "markdown",
   "metadata": {},
   "source": [
    "## Exercise 2 with for-loops\n",
    "\n",
    " In the cell below:\n",
    " \n",
    " \n",
    " Write a for loop to print out the days of the week from list given below. Stop printing when you get a day starting with 'S'. In other words, stop loop after 'Friday'\n",
    " \n",
    " Hint: use break command in if statement\n",
    "\n"
   ]
  },
  {
   "cell_type": "code",
   "execution_count": null,
   "metadata": {},
   "outputs": [],
   "source": [
    "# Exercise 2 with for-loops\n",
    "days = ['Monday', 'Tuesday', 'Wednesday', 'Thursday', 'Friday', 'Saturday', 'Sunday']\n",
    "\n"
   ]
  },
  {
   "cell_type": "markdown",
   "metadata": {},
   "source": [
    "## Another  important idea:   list comprehensions\n",
    "\n",
    "What is a list comprehension ???\n",
    "\n",
    "A list comprehension is an elegant way to define and create a list in python. We can create lists just like mathematical statements and in one line only. Here is the typical syntax for a list comprehension:\n",
    "\n",
    "        List = [expression(i) for i in another_list if filter(i)]\n",
    "\n",
    "Examples will help:"
   ]
  },
  {
   "cell_type": "code",
   "execution_count": null,
   "metadata": {},
   "outputs": [],
   "source": [
    "# Example : We want to create a list of the squares of integers(up to 100) that are divisible by 7 or 11 \n",
    "# Her's how we might do that with a for loop...\n",
    "\n",
    "new_list = []\n",
    "for x in range(1,100):\n",
    "    if (x % 7 ==0) or (x % 11 == 0):\n",
    "        new_list.append(x**2)\n",
    "#print(new_list)\n"
   ]
  },
  {
   "cell_type": "code",
   "execution_count": null,
   "metadata": {},
   "outputs": [],
   "source": [
    "# Here is a 'list comprehension' that does exactly the same thing in one-line:\n",
    "\n",
    "new_list = [x**2 for x in range(1,100) if x % 7 ==0 or x % 11 == 0 ]\n",
    "#print(new_list)"
   ]
  }
 ],
 "metadata": {
  "celltoolbar": "Raw Cell Format",
  "kernelspec": {
   "display_name": "Python 3 (ipykernel)",
   "language": "python",
   "name": "python3"
  },
  "language_info": {
   "codemirror_mode": {
    "name": "ipython",
    "version": 3
   },
   "file_extension": ".py",
   "mimetype": "text/x-python",
   "name": "python",
   "nbconvert_exporter": "python",
   "pygments_lexer": "ipython3",
   "version": "3.9.12"
  },
  "toc": {
   "base_numbering": 1,
   "nav_menu": {},
   "number_sections": true,
   "sideBar": true,
   "skip_h1_title": false,
   "title_cell": "Table of Contents",
   "title_sidebar": "Contents",
   "toc_cell": false,
   "toc_position": {},
   "toc_section_display": true,
   "toc_window_display": false
  }
 },
 "nbformat": 4,
 "nbformat_minor": 1
}
