{
 "cells": [
  {
   "cell_type": "markdown",
   "metadata": {},
   "source": [
    "# Solutions to Python practice exercises"
   ]
  },
  {
   "cell_type": "markdown",
   "metadata": {},
   "source": [
    "## Odd-even program\n",
    "\n",
    "  Program to determine if entered number is **odd** or **even**\n"
   ]
  },
  {
   "cell_type": "code",
   "execution_count": null,
   "metadata": {},
   "outputs": [],
   "source": [
    "# Line to allow entry from keyboard\n",
    "n = int(input(\"Enter number:  \"))\n",
    "\n",
    "if n%2==0:\n",
    "    print (f' {n} is Even')\n",
    "else:\n",
    "    print (f' {n} is Odd')    \n",
    "\n"
   ]
  },
  {
   "cell_type": "markdown",
   "metadata": {},
   "source": [
    "## Odd-even exercise:\n",
    "\n",
    "  In cell below, test each value in the range of integers from 1 to n.\n",
    "\n",
    "  Add a for-loop around the if-else statement.\n",
    "  \n",
    "  Remember to **indent** all statements inside the for-loop !!"
   ]
  },
  {
   "cell_type": "code",
   "execution_count": null,
   "metadata": {},
   "outputs": [],
   "source": [
    "n = int(input(\"Enter number:  \"))\n",
    "\n",
    "\n",
    "for num in range(1,n+1):\n",
    "    if num%2==0:\n",
    "        print (f' {num} is Even')\n",
    "    else:\n",
    "        print (f' {num} is Odd')  \n",
    "\n",
    "# Notice that you need to change the variable name(n) inside the loop to avoid conflicts    \n",
    "    \n",
    "    "
   ]
  },
  {
   "cell_type": "markdown",
   "metadata": {},
   "source": [
    "## Magic 8 ball program\n",
    "\n",
    "Program which predicts your future !!"
   ]
  },
  {
   "cell_type": "code",
   "execution_count": null,
   "metadata": {},
   "outputs": [],
   "source": [
    "\n",
    "# Import the modules\n",
    "import sys\n",
    "import random as random\n",
    "\n",
    "while True:      # Never-ending loop... unless you break out of it!\n",
    "    question = input(\"Ask the magic 8 ball a question: (press enter to quit) \")\n",
    "    answer = random.randint(1,8)\n",
    "    \n",
    "    if question == \"\":\n",
    "        print(\"No question entered....BYE-BYE\")\n",
    "        break\n",
    "    \n",
    "    elif answer == 1:\n",
    "        print (\"It is certain\")\n",
    "    \n",
    "    elif answer == 2:\n",
    "        print (\"Outlook good\")\n",
    "    \n",
    "    elif answer == 3:\n",
    "        print (\"You may rely on it\")\n",
    "    \n",
    "    elif answers== 4:\n",
    "        print (\"Ask again later\")\n",
    "    \n",
    "    elif answer == 5:\n",
    "        print (\"Concentrate and ask again\")\n",
    "    \n",
    "    elif answer == 6:\n",
    "        print (\"Reply hazy, try again\")\n",
    "    \n",
    "    elif answer == 7:\n",
    "        print (\"My reply is no\")\n",
    "    \n",
    "    elif answer == 8:\n",
    "        print (\"My sources say no\")\n"
   ]
  },
  {
   "cell_type": "markdown",
   "metadata": {},
   "source": [
    "## Magic 8 ball program Exercise\n",
    "\n",
    "Find a way to simplify this program by getting rid of the repeated if-else statements.\n",
    "\n",
    "Hint :  In the cell below, Copy in and use the list below which includes all 8 ball answers \n",
    "\n",
    "\n",
    "```\n",
    "answer_list = ['It is certain','It is decidedly so','Without a doubt','Yes, definitely','You may rely on it','As I see it, yes','Most likely','Outlook good','Yes','Signs point to yes','Reply hazy try again','Ask again later','Better not tell you now','Cannot predict now','Concentrate and ask again',\"Don't count on it\",'My reply is no','My sources say no','Outlook not so good','Very doubtful']\n",
    "```"
   ]
  },
  {
   "cell_type": "code",
   "execution_count": null,
   "metadata": {},
   "outputs": [],
   "source": [
    "# Import the modules\n",
    "import sys\n",
    "import random as random\n",
    "\n",
    "answer_list = ['It is certain','It is decidedly so','Without a doubt','Yes, definitely','You may rely on it','As I see it, yes','Most likely','Outlook good','Yes','Signs point to yes','Reply hazy try again','Ask again later','Better not tell you now','Cannot predict now','Concentrate and ask again',\"Don't count on it\",'My reply is no','My sources say no','Outlook not so good','Very doubtful']\n",
    "\n",
    "\n",
    "while True:      # Never-ending loop... unless you break out of it!\n",
    "    question = input(\"Ask the magic 8 ball a question: (press enter to quit) \")\n",
    "    answer = random.randint(1,8)  # Selects number between 1 and 8 inclusive)  \n",
    "    \n",
    "    if question == \"\":\n",
    "        print(\"No question entered....BYE-BYE\")\n",
    "        break\n",
    "\n",
    "########################################################        \n",
    "#   Your code goes here     \n",
    "#########################################################        \n",
    "\n",
    "    print(answer_list[answer])\n"
   ]
  },
  {
   "cell_type": "markdown",
   "metadata": {},
   "source": [
    "## Factorial function\n",
    "\n",
    "The factorial of an integer N is the product of all integers up to and including N.\n",
    "\n",
    "```      N!  =  N*(N-1)*(N-2)*(N-3)* ...  2*1  ```\n",
    "\n",
    "Examples: \n",
    "\n",
    "         3!  = 3*2*1 = 6 \n",
    "         \n",
    "         6!  = 6*5*4*3*2*1 = 720   \n",
    "         \n",
    " Below we have coded a factorial function an integer (num) and returns num! \n",
    " \n",
    " Notice we can pass in a different variable(x) into factorial(num). **x** becomes **num** inside the function\n"
   ]
  },
  {
   "cell_type": "code",
   "execution_count": null,
   "metadata": {},
   "outputs": [],
   "source": [
    "#\n",
    "#  Program computes factorial \n",
    "# \n",
    "\n",
    "def factorial(num):\n",
    "    \"\"\" Returns num! for num \"\"\"\n",
    "    prod = 1.0\n",
    "    for i in range(1,num +1):\n",
    "        prod = prod*i \n",
    "    return prod\n",
    "\n",
    "x = int(input('Enter integer to compute factorial :'))\n",
    "x_fact = factorial(x)\n",
    "\n",
    "print (f'\\n  x =  {x},  x! = {x_fact}') \n",
    "          \n"
   ]
  },
  {
   "cell_type": "markdown",
   "metadata": {},
   "source": [
    "## Factorial function Exercise\n",
    "\n",
    "In the cell below, create a for-loop which computes and prints the factorial for each value the list of primes below.\n",
    "\n",
    "```  list_of_primes = [3, 5, 7, 11, 13,17]  ```\n",
    "\n",
    " Notice how the size of the factorial increases rapidly !!"
   ]
  },
  {
   "cell_type": "code",
   "execution_count": null,
   "metadata": {},
   "outputs": [],
   "source": [
    "def factorial(num):\n",
    "    \"\"\" Returns num! for num \"\"\"\n",
    "    prod = 1.0\n",
    "    for i in range(1,num +1):\n",
    "        prod = prod*i \n",
    "    return prod\n",
    "\n",
    "list_of_primes = [3, 5, 7, 11, 13, 17]\n",
    "\n",
    "# for-loop starts here\n",
    "for x in list_of_primes:\n",
    "    x_fact = factorial(x)\n",
    "    print (f'\\n  x =  {x},  x! = {x_fact}') "
   ]
  },
  {
   "cell_type": "code",
   "execution_count": null,
   "metadata": {},
   "outputs": [],
   "source": []
  }
 ],
 "metadata": {
  "kernelspec": {
   "display_name": "Python 3",
   "language": "python",
   "name": "python3"
  },
  "language_info": {
   "codemirror_mode": {
    "name": "ipython",
    "version": 3
   },
   "file_extension": ".py",
   "mimetype": "text/x-python",
   "name": "python",
   "nbconvert_exporter": "python",
   "pygments_lexer": "ipython3",
   "version": "3.8.5"
  },
  "toc": {
   "base_numbering": 1,
   "nav_menu": {},
   "number_sections": true,
   "sideBar": true,
   "skip_h1_title": false,
   "title_cell": "Table of Contents",
   "title_sidebar": "Contents",
   "toc_cell": false,
   "toc_position": {},
   "toc_section_display": true,
   "toc_window_display": false
  }
 },
 "nbformat": 4,
 "nbformat_minor": 4
}
